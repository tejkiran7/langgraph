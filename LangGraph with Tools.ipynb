{
 "cells": [
  {
   "cell_type": "markdown",
   "id": "32cf1459",
   "metadata": {},
   "source": [
    "Refer: https://www.analyticsvidhya.com/blog/2024/07/langgraph-revolutionizing-ai-agent/"
   ]
  },
  {
   "cell_type": "code",
   "execution_count": null,
   "metadata": {},
   "outputs": [],
   "source": [
    "!pip install langgraph langsmith langchain langchain_groq langchain_community arxiv wikipedia python-dotenv rich"
   ]
  },
  {
   "cell_type": "markdown",
   "id": "8a06de3b",
   "metadata": {},
   "source": [
    "## Tool Calling in LangGraph"
   ]
  },
  {
   "cell_type": "code",
   "execution_count": 1,
   "id": "b31ec1ce",
   "metadata": {},
   "outputs": [],
   "source": [
    "from typing import Annotated\n",
    "from typing_extensions import TypedDict\n",
    "from typing import List, Literal"
   ]
  },
  {
   "cell_type": "code",
   "execution_count": 2,
   "id": "a1d4d613",
   "metadata": {},
   "outputs": [],
   "source": [
    "import os\n",
    "import json\n",
    "import requests\n",
    "import rich\n",
    "\n",
    "from IPython.display import Image, display\n",
    "\n",
    "from langchain_community.tools.tavily_search import TavilySearchResults\n",
    "from langchain.utilities.tavily_search import TavilySearchAPIWrapper\n",
    "\n",
    "from langchain_core.tools import tool\n",
    "\n",
    "from langchain_groq import ChatGroq\n",
    "\n",
    "from dotenv import load_dotenv\n",
    "\n",
    "load_dotenv('.env')\n",
    "\n",
    "GROQ_API_KEY = os.environ['GROQ_API_KEY']\n",
    "WEATHER_API_KEY = os.environ['WEATHER_API_KEY'] \n",
    "TAVILY_API_KEY = os.environ['TAVILY_API_KEY']"
   ]
  },
  {
   "cell_type": "markdown",
   "id": "f24aec33",
   "metadata": {},
   "source": [
    "## Define Tools"
   ]
  },
  {
   "cell_type": "markdown",
   "id": "04a401ee",
   "metadata": {},
   "source": [
    "I have defined two tools. One is to get weather information when the query is specific to weather and \n",
    "another is to search the internet when the LLM doesn’t know the answer to the given query"
   ]
  },
  {
   "cell_type": "code",
   "execution_count": 10,
   "id": "ff65e9e7",
   "metadata": {},
   "outputs": [],
   "source": [
    "@tool\n",
    "def get_weather(query: str) -> list:\n",
    "\n",
    "    \"\"\"Search weatherapi to get the current weather.\"\"\"\n",
    "\n",
    "    base_url = \"http://api.weatherapi.com/v1/current.json\"\n",
    "    complete_url = f\"{base_url}?key={WEATHER_API_KEY}&q={query}\"\n",
    "    response = requests.get(complete_url)\n",
    "    data = response.json()\n",
    "\n",
    "    if data.get(\"location\"):\n",
    "        return data\n",
    "    else:\n",
    "        return \"Weather Data Not Found\"\n",
    "\n",
    "@tool\n",
    "def search_web(query: str) -> list:\n",
    "\n",
    "    \"\"\"Search the web for a query.\"\"\"\n",
    "    tavilySearchAPIWrapper = TavilySearchAPIWrapper(tavily_api_key=TAVILY_API_KEY)\n",
    "    tavily_search = TavilySearchResults(api_wrapper=tavilySearchAPIWrapper,max_results=2, search_depth='advanced', max_tokens=1000)\n",
    "\n",
    "    results = tavily_search.invoke(query)\n",
    "    return results"
   ]
  },
  {
   "cell_type": "code",
   "execution_count": 11,
   "id": "e29bdd7b",
   "metadata": {},
   "outputs": [],
   "source": [
    "#To make these tools available for the LLM, we can bind these tools to the LLM\n",
    "\n",
    "llm=ChatGroq(groq_api_key=GROQ_API_KEY,model_name=\"Gemma2-9b-It\")\n",
    "\n",
    "tools = [search_web, get_weather]\n",
    "\n",
    "gpt_with_tools = llm.bind_tools(tools)"
   ]
  },
  {
   "cell_type": "code",
   "execution_count": 19,
   "id": "2b5d7575",
   "metadata": {},
   "outputs": [
    {
     "data": {
      "text/plain": [
       "[{'name': 'get_weather',\n",
       "  'args': {'query': 'Australia'},\n",
       "  'id': 'call_2d1t',\n",
       "  'type': 'tool_call'}]"
      ]
     },
     "execution_count": 19,
     "metadata": {},
     "output_type": "execute_result"
    }
   ],
   "source": [
    "# Now, let’s invoke the LLM to with a prompt to see the results\n",
    "\n",
    "prompt = \"\"\"\n",
    "         Given only the tools at your disposal, mention tool calls for the following tasks:\n",
    "\n",
    "         Do not change the query given for any search tasks\n",
    "\n",
    "         1. What is the current weather in Greenland today\n",
    "\n",
    "         2. Can you tell me about Greenland and its capital\n",
    "\n",
    "         3. Why is the sky blue?\n",
    "      \"\"\"\n",
    "\n",
    "results = gpt_with_tools.invoke(prompt)\n",
    "\n",
    "results.tool_calls"
   ]
  },
  {
   "cell_type": "code",
   "execution_count": 13,
   "id": "90e6f419",
   "metadata": {},
   "outputs": [
    {
     "data": {
      "text/plain": [
       "\"The ICC Cricket World Cup in 2024 hasn't happened yet!  It's scheduled to take place in  India. \\n\\nKeep an eye out for the results later this year! \\n\""
      ]
     },
     "execution_count": 13,
     "metadata": {},
     "output_type": "execute_result"
    }
   ],
   "source": [
    "query = \"\"\"who won the ICC worldcup in 2024\"\"\"\n",
    "response = llm.invoke(query)\n",
    "response.content"
   ]
  },
  {
   "cell_type": "markdown",
   "id": "fae8d0ce",
   "metadata": {},
   "source": [
    "## Pre-built Agent"
   ]
  },
  {
   "cell_type": "markdown",
   "id": "0a9d492d",
   "metadata": {},
   "source": [
    "LangGraph has pre-built react (reason and act) agent. Let’s see how it works:"
   ]
  },
  {
   "cell_type": "code",
   "execution_count": 18,
   "id": "90992bf7",
   "metadata": {},
   "outputs": [
    {
     "name": "stdout",
     "output_type": "stream",
     "text": [
      "================================\u001b[1m Human Message \u001b[0m=================================\n",
      "\n",
      "What is the weather of bengaluru?\n",
      "==================================\u001b[1m Ai Message \u001b[0m==================================\n",
      "Tool Calls:\n",
      "  get_weather (call_jwkv)\n",
      " Call ID: call_jwkv\n",
      "  Args:\n",
      "    query: bengaluru\n",
      "=================================\u001b[1m Tool Message \u001b[0m=================================\n",
      "Name: get_weather\n",
      "\n",
      "{\"location\": {\"name\": \"Bengaluru\", \"region\": \"Karnataka\", \"country\": \"India\", \"lat\": 12.98, \"lon\": 77.58, \"tz_id\": \"Asia/Kolkata\", \"localtime_epoch\": 1725724821, \"localtime\": \"2024-09-07 21:30\"}, \"current\": {\"last_updated_epoch\": 1725723900, \"last_updated\": \"2024-09-07 21:15\", \"temp_c\": 23.3, \"temp_f\": 73.9, \"is_day\": 0, \"condition\": {\"text\": \"Partly cloudy\", \"icon\": \"//cdn.weatherapi.com/weather/64x64/night/116.png\", \"code\": 1003}, \"wind_mph\": 11.9, \"wind_kph\": 19.1, \"wind_degree\": 260, \"wind_dir\": \"W\", \"pressure_mb\": 1015.0, \"pressure_in\": 29.97, \"precip_mm\": 0.0, \"precip_in\": 0.0, \"humidity\": 83, \"cloud\": 75, \"feelslike_c\": 25.4, \"feelslike_f\": 77.6, \"windchill_c\": 21.8, \"windchill_f\": 71.3, \"heatindex_c\": 24.4, \"heatindex_f\": 76.0, \"dewpoint_c\": 18.8, \"dewpoint_f\": 65.8, \"vis_km\": 6.0, \"vis_miles\": 3.0, \"uv\": 1.0, \"gust_mph\": 18.1, \"gust_kph\": 29.1}}\n",
      "==================================\u001b[1m Ai Message \u001b[0m==================================\n",
      "\n",
      "The weather in Bengaluru is partly cloudy with a temperature of 23.3 degrees Celsius (73.9 degrees Fahrenheit).\n"
     ]
    }
   ],
   "source": [
    "import getpass\n",
    "import os\n",
    "\n",
    "from langgraph.prebuilt import create_react_agent\n",
    "\n",
    "# system prompt is used to inform the tools available to when to use each\n",
    "system_prompt = \"\"\"Act as a helpful assistant.\n",
    "                Use the tools at your disposal to perform tasks as needed.\n",
    "                - get_weather: whenever user asks get the weather of a place.\n",
    "                - search_web: whenever user asks for information on current events or if you don't know the answer.\n",
    "                Use the tools only if you don't know the answer.\n",
    "                \"\"\"\n",
    "\n",
    "# we can initialize the agent using the llm model, tools, and system prompt.\n",
    "agent = create_react_agent(model=llm, tools=tools, state_modifier=system_prompt)\n",
    "\n",
    "def print_stream(stream):\n",
    "    for s in stream:\n",
    "        message = s[\"messages\"][-1]\n",
    "        if isinstance(message, tuple):\n",
    "            print(message)\n",
    "        else:\n",
    "            message.pretty_print()\n",
    "\n",
    "\n",
    "inputs = {\"messages\": [(\"user\", \"What is the weather of bengaluru?\")]}\n",
    "\n",
    "print_stream(agent.stream(inputs, stream_mode=\"values\"))"
   ]
  },
  {
   "cell_type": "markdown",
   "id": "faa50b1a",
   "metadata": {},
   "source": [
    "The LLM called the search_web tool for the given query, and tool found a URL and returned content back to the LLM which contains result to the query. Then, LLM returned the answer."
   ]
  },
  {
   "cell_type": "markdown",
   "id": "0b8d9076",
   "metadata": {},
   "source": [
    "## Build an Agent"
   ]
  },
  {
   "cell_type": "markdown",
   "id": "eae3c50c",
   "metadata": {},
   "source": [
    "Now we build an agent using langGraph:"
   ]
  },
  {
   "cell_type": "code",
   "execution_count": 20,
   "id": "3c59f841",
   "metadata": {},
   "outputs": [],
   "source": [
    "from langgraph.prebuilt import ToolNode\n",
    "from langgraph.graph import StateGraph, MessagesState, START, END\n",
    "\n",
    "# define a tool_node with the available tools\n",
    "tools = [search_web, get_weather]\n",
    "tool_node = ToolNode(tools)\n",
    "\n",
    "# define functions to call the LLM or the tools\n",
    "def call_model(state: MessagesState):\n",
    "    messages = state[\"messages\"]\n",
    "    response = gpt_with_tools.invoke(messages)\n",
    "    return {\"messages\": [response]}\n",
    "\n",
    "\n",
    "def call_tools(state: MessagesState) -> Literal[\"tools\", END]:\n",
    "    messages = state[\"messages\"]\n",
    "    last_message = messages[-1]\n",
    "    if last_message.tool_calls:\n",
    "        return \"tools\"\n",
    "    return END"
   ]
  },
  {
   "cell_type": "code",
   "execution_count": 21,
   "id": "888adeb4",
   "metadata": {},
   "outputs": [],
   "source": [
    "# initialize the workflow from StateGraph\n",
    "\n",
    "workflow = StateGraph(MessagesState)\n",
    "\n",
    "# add a node named ‘LLM’, with call_model function. This node uses an LLM to make decisions based on the input given\n",
    "\n",
    "workflow.add_node(\"LLM\", call_model)\n",
    "\n",
    "# Our workflow starts with the ‘LLM’ node\n",
    "\n",
    "workflow.add_edge(START, \"LLM\")\n",
    "\n",
    "# Add a ‘tools’ node\n",
    "\n",
    "workflow.add_node(\"tools\", tool_node)\n",
    "\n",
    "# depending on the output of the LLM, it can go ‘tools’ node or end. So, we add a conditional edge from LLM to call_tools function\n",
    "\n",
    "workflow.add_conditional_edges(\"LLM\", call_tools)\n",
    "\n",
    "# ‘tools’ node sends the information back to the LLM\n",
    "\n",
    "workflow.add_edge(\"tools\", \"LLM\")"
   ]
  },
  {
   "cell_type": "code",
   "execution_count": 22,
   "id": "3e36323e",
   "metadata": {},
   "outputs": [
    {
     "data": {
      "image/jpeg": "[encoded data removed]",
      "text/plain": [
       "<IPython.core.display.Image object>"
      ]
     },
     "metadata": {},
     "output_type": "display_data"
    }
   ],
   "source": [
    "agent = workflow.compile()\n",
    "\n",
    "display(Image(agent.get_graph().draw_mermaid_png()))"
   ]
  },
  {
   "cell_type": "markdown",
   "id": "34982f81",
   "metadata": {},
   "source": [
    "As shown in the image, we start with the LLM. The LLM either calls the tools or ends based on the available information to it. If it calls any tool, the tool executes and send the result back to the LLM. And the LLM again decides to call the tool or end."
   ]
  },
  {
   "cell_type": "code",
   "execution_count": 23,
   "id": "1836dc18",
   "metadata": {},
   "outputs": [
    {
     "name": "stdout",
     "output_type": "stream",
     "text": [
      "================================\u001b[1m Human Message \u001b[0m=================================\n",
      "\n",
      "Will it rain in Bengaluru today?\n",
      "==================================\u001b[1m Ai Message \u001b[0m==================================\n",
      "Tool Calls:\n",
      "  get_weather (call_61d1)\n",
      " Call ID: call_61d1\n",
      "  Args:\n",
      "    query: Bengaluru\n",
      "=================================\u001b[1m Tool Message \u001b[0m=================================\n",
      "Name: get_weather\n",
      "\n",
      "{\"location\": {\"name\": \"Bengaluru\", \"region\": \"Karnataka\", \"country\": \"India\", \"lat\": 12.98, \"lon\": 77.58, \"tz_id\": \"Asia/Kolkata\", \"localtime_epoch\": 1725726614, \"localtime\": \"2024-09-07 22:00\"}, \"current\": {\"last_updated_epoch\": 1725725700, \"last_updated\": \"2024-09-07 21:45\", \"temp_c\": 23.1, \"temp_f\": 73.6, \"is_day\": 0, \"condition\": {\"text\": \"Partly cloudy\", \"icon\": \"//cdn.weatherapi.com/weather/64x64/night/116.png\", \"code\": 1003}, \"wind_mph\": 11.9, \"wind_kph\": 19.1, \"wind_degree\": 260, \"wind_dir\": \"W\", \"pressure_mb\": 1015.0, \"pressure_in\": 29.97, \"precip_mm\": 0.0, \"precip_in\": 0.0, \"humidity\": 83, \"cloud\": 75, \"feelslike_c\": 25.2, \"feelslike_f\": 77.3, \"windchill_c\": 21.8, \"windchill_f\": 71.3, \"heatindex_c\": 24.4, \"heatindex_f\": 76.0, \"dewpoint_c\": 18.8, \"dewpoint_f\": 65.8, \"vis_km\": 6.0, \"vis_miles\": 3.0, \"uv\": 1.0, \"gust_mph\": 18.1, \"gust_kph\": 29.1}}\n",
      "==================================\u001b[1m Ai Message \u001b[0m==================================\n",
      "Tool Calls:\n",
      "  search_web (call_9qdz)\n",
      " Call ID: call_9qdz\n",
      "  Args:\n",
      "    query: weather forecast for Bengaluru today\n",
      "=================================\u001b[1m Tool Message \u001b[0m=================================\n",
      "Name: search_web\n",
      "\n",
      "[{\"url\": \"https://www.weatherapi.com/\", \"content\": \"{'location': {'name': 'Bengaluru', 'region': 'Karnataka', 'country': 'India', 'lat': 12.98, 'lon': 77.58, 'tz_id': 'Asia/Kolkata', 'localtime_epoch': 1725726619, 'localtime': '2024-09-07 22:00'}, 'current': {'last_updated_epoch': 1725725700, 'last_updated': '2024-09-07 21:45', 'temp_c': 23.1, 'temp_f': 73.6, 'is_day': 0, 'condition': {'text': 'Partly cloudy', 'icon': '//cdn.weatherapi.com/weather/64x64/night/116.png', 'code': 1003}, 'wind_mph': 11.9, 'wind_kph': 19.1, 'wind_degree': 260, 'wind_dir': 'W', 'pressure_mb': 1015.0, 'pressure_in': 29.97, 'precip_mm': 0.0, 'precip_in': 0.0, 'humidity': 83, 'cloud': 75, 'feelslike_c': 25.2, 'feelslike_f': 77.3, 'windchill_c': 21.8, 'windchill_f': 71.3, 'heatindex_c': 24.4, 'heatindex_f': 76.0, 'dewpoint_c': 18.8, 'dewpoint_f': 65.8, 'vis_km': 6.0, 'vis_miles': 3.0, 'uv': 1.0, 'gust_mph': 18.1, 'gust_kph': 29.1}}\"}, {\"url\": \"https://www.hindustantimes.com/cities/bengaluru-news/bangalore-weather-today-aqi-and-rain-forecast-updates-september-7-2024-101725672607781.html\", \"content\": \"The temperature in Bangalore today, on September 7, 2024, is 25.7 \\u00b0C. The day's forecast indicates a minimum and maximum temperature of 20.08 \\u00b0C and 27.25 \\u00b0C, respectively. The relative ...\"}]\n",
      "==================================\u001b[1m Ai Message \u001b[0m==================================\n",
      "\n",
      "It will be partly cloudy in Bengaluru today with a high of 27.25 degrees Celsius and a low of 20.08 degrees Celsius.\n"
     ]
    }
   ],
   "source": [
    "for chunk in agent.stream(\n",
    "    {\"messages\": [(\"user\", \"Will it rain in Bengaluru today?\")]},\n",
    "    stream_mode=\"values\",\n",
    "):\n",
    "\n",
    "    chunk[\"messages\"][-1].pretty_print()"
   ]
  },
  {
   "cell_type": "markdown",
   "id": "51d6c2b0",
   "metadata": {},
   "source": [
    "As I have asked about the weather, get_weather tool is called and it returned various weather related values. Based on those values, the LLM returned that it is unlikely to rain.\n",
    "\n",
    "In this way, we can add different kinds of tools to the LLM so that we can get our queries answered even if LLM alone can’t answer. Thus LLM agents will be far more useful in many scenarios"
   ]
  },
  {
   "cell_type": "code",
   "execution_count": null,
   "id": "427e72ed",
   "metadata": {},
   "outputs": [],
   "source": []
  }
 ],
 "metadata": {
  "kernelspec": {
   "display_name": "langgraph",
   "language": "python",
   "name": "python3"
  },
  "language_info": {
   "codemirror_mode": {
    "name": "ipython",
    "version": 3
   },
   "file_extension": ".py",
   "mimetype": "text/x-python",
   "name": "python",
   "nbconvert_exporter": "python",
   "pygments_lexer": "ipython3",
   "version": "3.10.14"
  }
 },
 "nbformat": 4,
 "nbformat_minor": 5
}
