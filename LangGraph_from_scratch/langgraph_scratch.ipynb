{
 "cells": [
  {
   "cell_type": "markdown",
   "metadata": {},
   "source": [
    "<h2>This is the simple workflow with graph</h2>"
   ]
  },
  {
   "cell_type": "code",
   "execution_count": 1,
   "metadata": {},
   "outputs": [],
   "source": [
    "def function_1(input_1):\n",
    "    return \"This is \" + input_1 + \" from First Function \"\n",
    "\n",
    "def function3(input3):\n",
    "    return input3 + ' kiran'\n",
    "    \n",
    "def function_2(input_2):\n",
    "    output=function3(\"calling function 3.. in between to get second name\")\n",
    "    return input_2 + output + \" to Second Function\"\n"
   ]
  },
  {
   "cell_type": "code",
   "execution_count": 2,
   "metadata": {},
   "outputs": [],
   "source": [
    "from langgraph.graph import Graph\n",
    "\n",
    "# Define a Langchain graph\n",
    "workflow1 = Graph()\n",
    "\n",
    "workflow1.add_node(\"func_1\", function_1)\n",
    "workflow1.add_node(\"func_2\", function_2)\n",
    "\n",
    "workflow1.add_edge('func_1', 'func_2')\n",
    "\n",
    "workflow1.set_entry_point(\"func_1\")\n",
    "workflow1.set_finish_point(\"func_2\")\n",
    "\n",
    "app1 = workflow1.compile()"
   ]
  },
  {
   "cell_type": "code",
   "execution_count": 3,
   "metadata": {},
   "outputs": [
    {
     "data": {
      "text/plain": [
       "'This is Tej from First Function calling function 3.. in between to get second name kiran to Second Function'"
      ]
     },
     "execution_count": 3,
     "metadata": {},
     "output_type": "execute_result"
    }
   ],
   "source": [
    "app1.invoke('Tej')"
   ]
  },
  {
   "cell_type": "code",
   "execution_count": 4,
   "metadata": {},
   "outputs": [
    {
     "name": "stdout",
     "output_type": "stream",
     "text": [
      "Output from node 'func_1':\n",
      "---\n",
      "This is I am moving from from First Function \n",
      "\n",
      "---\n",
      "\n",
      "Output from node 'func_2':\n",
      "---\n",
      "This is I am moving from from First Function calling function 3.. in between to get second name kiran to Second Function\n",
      "\n",
      "---\n",
      "\n"
     ]
    }
   ],
   "source": [
    "input = 'I am moving from'\n",
    "for output in app1.stream(input):\n",
    "    # stream() yields dictionaries with output keyed by node name\n",
    "    for key, value in output.items():\n",
    "        print(f\"Output from node '{key}':\")\n",
    "        print(\"---\")\n",
    "        print(value)\n",
    "    print(\"\\n---\\n\")"
   ]
  },
  {
   "cell_type": "code",
   "execution_count": 5,
   "metadata": {},
   "outputs": [
    {
     "data": {
      "image/jpeg": "[encoded data removed]",
      "text/plain": [
       "<IPython.core.display.Image object>"
      ]
     },
     "metadata": {},
     "output_type": "display_data"
    }
   ],
   "source": [
    "from IPython.display import Image, display\n",
    "\n",
    "try:\n",
    "    display(Image(app1.get_graph().draw_mermaid_png()))\n",
    "except Exception as e:\n",
    "    # This requires some extra dependencies and is optional\n",
    "    print(e)"
   ]
  },
  {
   "cell_type": "code",
   "execution_count": 6,
   "metadata": {},
   "outputs": [
    {
     "data": {
      "text/plain": [
       "'This is mahi from First Function calling function 3.. in between to get second name kiran to Second Function'"
      ]
     },
     "execution_count": 6,
     "metadata": {},
     "output_type": "execute_result"
    }
   ],
   "source": [
    "app1.invoke(\"mahi\")"
   ]
  },
  {
   "cell_type": "markdown",
   "metadata": {},
   "source": [
    "<h2>Now let's create a workflow with LLM</h2>"
   ]
  },
  {
   "cell_type": "code",
   "execution_count": 7,
   "metadata": {},
   "outputs": [
    {
     "name": "stderr",
     "output_type": "stream",
     "text": [
      "c:\\Users\\TEJKIRAN\\anaconda3\\envs\\langgraph\\lib\\site-packages\\tqdm\\auto.py:21: TqdmWarning: IProgress not found. Please update jupyter and ipywidgets. See https://ipywidgets.readthedocs.io/en/stable/user_install.html\n",
      "  from .autonotebook import tqdm as notebook_tqdm\n"
     ]
    }
   ],
   "source": [
    "from langchain_google_genai import GoogleGenerativeAIEmbeddings\n",
    "embeddings = GoogleGenerativeAIEmbeddings(model=\"models/embedding-001\")\n",
    "from langchain_google_genai import ChatGoogleGenerativeAI\n",
    "llm = ChatGoogleGenerativeAI(model=\"gemini-1.0-pro\")"
   ]
  },
  {
   "cell_type": "code",
   "execution_count": 8,
   "metadata": {},
   "outputs": [
    {
     "data": {
      "text/plain": [
       "'Hello there! How can I assist you today?'"
      ]
     },
     "execution_count": 8,
     "metadata": {},
     "output_type": "execute_result"
    }
   ],
   "source": [
    "llm.invoke('hi').content"
   ]
  },
  {
   "cell_type": "code",
   "execution_count": 9,
   "metadata": {},
   "outputs": [],
   "source": [
    "def function1(input):\n",
    "    llm=ChatGoogleGenerativeAI(model=\"gemini-1.0-pro\")\n",
    "    response=llm.invoke(input).content\n",
    "    return response"
   ]
  },
  {
   "cell_type": "code",
   "execution_count": 10,
   "metadata": {},
   "outputs": [],
   "source": [
    "def function2(input):\n",
    "    upper_case=input.upper()\n",
    "    return upper_case"
   ]
  },
  {
   "cell_type": "code",
   "execution_count": 11,
   "metadata": {},
   "outputs": [],
   "source": [
    "from langgraph.graph import Graph\n",
    "workflow2=Graph()"
   ]
  },
  {
   "cell_type": "code",
   "execution_count": 12,
   "metadata": {},
   "outputs": [],
   "source": [
    "workflow2.add_node(\"llm\",function1)"
   ]
  },
  {
   "cell_type": "code",
   "execution_count": 13,
   "metadata": {},
   "outputs": [],
   "source": [
    "workflow2.add_node(\"upper_string\",function2)"
   ]
  },
  {
   "cell_type": "code",
   "execution_count": 14,
   "metadata": {},
   "outputs": [],
   "source": [
    "workflow2.add_edge(\"llm\",\"upper_string\")"
   ]
  },
  {
   "cell_type": "code",
   "execution_count": 15,
   "metadata": {},
   "outputs": [],
   "source": [
    "workflow2.set_entry_point(\"llm\")\n",
    "workflow2.set_finish_point(\"upper_string\")"
   ]
  },
  {
   "cell_type": "code",
   "execution_count": 16,
   "metadata": {},
   "outputs": [],
   "source": [
    "app2=workflow2.compile()"
   ]
  },
  {
   "cell_type": "code",
   "execution_count": 17,
   "metadata": {},
   "outputs": [
    {
     "data": {
      "image/jpeg": "[encoded data removed]",
      "text/plain": [
       "<IPython.core.display.Image object>"
      ]
     },
     "metadata": {},
     "output_type": "display_data"
    }
   ],
   "source": [
    "from IPython.display import Image, display\n",
    "\n",
    "try:\n",
    "    display(Image(app2.get_graph().draw_mermaid_png()))\n",
    "except Exception as e:\n",
    "    # This requires some extra dependencies and is optional\n",
    "    print(e)"
   ]
  },
  {
   "cell_type": "code",
   "execution_count": 18,
   "metadata": {},
   "outputs": [
    {
     "data": {
      "text/plain": [
       "'JAWAHARLAL NEHRU'"
      ]
     },
     "execution_count": 18,
     "metadata": {},
     "output_type": "execute_result"
    }
   ],
   "source": [
    "app2.invoke(\"what is a name of first indian prime minister?\")"
   ]
  },
  {
   "cell_type": "code",
   "execution_count": 19,
   "metadata": {},
   "outputs": [
    {
     "name": "stdout",
     "output_type": "stream",
     "text": [
      "TIGER (PANTHERA TIGRIS) IS A SPECIES OF MAMMAL OF THE FELIDAE FAMILY. IT IS THE LARGEST OF ALL THE WILD CATS.\n",
      "\n",
      "**PHYSICAL CHARACTERISTICS:**\n",
      "\n",
      "* **SIZE:** TIGERS ARE THE LARGEST CATS, WITH MALES TYPICALLY MEASURING 180-290 CM IN BODY LENGTH AND WEIGHING 180-310 KG. FEMALES ARE SMALLER, TYPICALLY MEASURING 160-250 CM AND WEIGHING 100-160 KG.\n",
      "* **COLOR:** TIGERS HAVE A DISTINCTIVE ORANGE-BROWN COAT WITH BLACK STRIPES. THE PATTERN OF STRIPES IS UNIQUE TO EACH INDIVIDUAL.\n",
      "* **TAIL:** TIGERS HAVE A LONG, MUSCULAR TAIL THAT TYPICALLY MEASURES 60-110 CM.\n",
      "* **TEETH:** TIGERS HAVE POWERFUL JAWS WITH LARGE, SHARP TEETH. THEIR CANINES CAN MEASURE UP TO 10 CM IN LENGTH.\n",
      "\n",
      "**DISTRIBUTION AND HABITAT:**\n",
      "\n",
      "* TIGERS WERE ONCE FOUND THROUGHOUT ASIA, FROM THE CASPIAN SEA TO THE PACIFIC OCEAN. TODAY, THEY ARE RESTRICTED TO FRAGMENTED POPULATIONS IN:\n",
      "    * RUSSIA (SIBERIAN TIGER)\n",
      "    * INDIA (BENGAL TIGER)\n",
      "    * BANGLADESH (BENGAL TIGER)\n",
      "    * NEPAL (BENGAL TIGER)\n",
      "    * BHUTAN (BENGAL TIGER)\n",
      "    * MYANMAR (BURMESE TIGER)\n",
      "    * THAILAND (INDOCHINESE TIGER)\n",
      "    * MALAYSIA (MALAYAN TIGER)\n",
      "    * INDONESIA (SUMATRAN TIGER)\n",
      "* TIGERS PREFER DENSE FORESTS WITH AMPLE PREY AND WATER SOURCES.\n",
      "\n",
      "**BEHAVIOR:**\n",
      "\n",
      "* TIGERS ARE SOLITARY ANIMALS, EXCEPT FOR BREEDING PAIRS AND MOTHER-CUB RELATIONSHIPS.\n",
      "* THEY ARE TERRITORIAL AND MARK THEIR TERRITORIES WITH URINE, FECES, AND VOCALIZATIONS.\n",
      "* TIGERS ARE AMBUSH PREDATORS THAT TYPICALLY HUNT AT NIGHT OR DUSK. THEY USE THEIR SHARP CLAWS AND POWERFUL JAWS TO KILL THEIR PREY.\n",
      "* TIGERS ARE SKILLED CLIMBERS AND SWIMMERS.\n",
      "\n",
      "**DIET:**\n",
      "\n",
      "* TIGERS ARE CARNIVORES THAT PRIMARILY FEED ON LARGE UNGULATES, SUCH AS DEER, BUFFALO, AND WILD BOAR.\n",
      "* THEY MAY ALSO HUNT SMALLER ANIMALS, SUCH AS MONKEYS, HARES, AND BIRDS.\n",
      "\n",
      "**CONSERVATION STATUS:**\n",
      "\n",
      "* TIGERS ARE AN ENDANGERED SPECIES DUE TO HABITAT LOSS, POACHING, AND CONFLICT WITH HUMANS.\n",
      "* THE GLOBAL POPULATION IS ESTIMATED TO BE BETWEEN 3,200 AND 5,000 INDIVIDUALS.\n"
     ]
    }
   ],
   "source": [
    "print(app2.invoke(\"What is tiger?\"))"
   ]
  },
  {
   "cell_type": "code",
   "execution_count": 20,
   "metadata": {},
   "outputs": [
    {
     "name": "stdout",
     "output_type": "stream",
     "text": [
      "here is output from llm\n",
      "_______\n",
      "**Cultural Immersion:**\n",
      "\n",
      "* **Visit historical temples and shrines:** Explore iconic landmarks such as Kiyomizu-dera, Fushimi Inari Shrine, and Kinkaku-ji.\n",
      "* **Attend traditional festivals:** Immerse yourself in Japanese culture at festivals like the Gion Matsuri, Nebuta Festival, and Yuki Matsuri.\n",
      "* **Learn about tea ceremony and calligraphy:** Experience traditional Japanese arts and customs at tea houses and calligraphy workshops.\n",
      "\n",
      "**Natural Wonders:**\n",
      "\n",
      "* **Hike Mount Fuji:** Ascend Japan's iconic mountain for breathtaking views of the country.\n",
      "* **Visit national parks:** Explore the natural beauty of Japan at parks like Nikko National Park, Hakone National Park, and Shiretoko National Park.\n",
      "* **Admire cherry blossoms:** Witness the stunning spectacle of cherry blossoms blooming throughout the country during spring.\n",
      "\n",
      "**Cuisine and Dining:**\n",
      "\n",
      "* **Taste authentic sushi and sashimi:** Indulge in the freshest seafood at traditional sushi restaurants and fish markets.\n",
      "* **Explore street food markets:** Sample a variety of local delicacies, such as takoyaki, okonomiyaki, and yakitori.\n",
      "* **Try traditional Japanese cuisine:** Savor dishes like tempura, ramen, and soba noodles.\n",
      "\n",
      "**Shopping and Entertainment:**\n",
      "\n",
      "* **Stroll through shopping arcades:** Explore bustling arcades like Akihabara, Shibuya, and Ginza for electronics, fashion, and souvenirs.\n",
      "* **Visit anime and manga museums:** Discover the world of Japanese anime and manga at museums like the Ghibli Museum and the Tokyo Metropolitan Art Space.\n",
      "* **Attend a sumo wrestling match:** Witness the ancient tradition of sumo at arenas like Ryogoku Kokugikan.\n",
      "\n",
      "**Other Must-Do Experiences:**\n",
      "\n",
      "* **Ride the bullet train (Shinkansen):** Experience Japan's high-speed rail system for a scenic and efficient way to travel.\n",
      "* **Stay in a traditional ryokan:** Immerse yourself in Japanese hospitality at a traditional inn with tatami flooring and onsen baths.\n",
      "* **Visit the Imperial Palace Gardens:** Explore the serene gardens of the Imperial Palace in Tokyo.\n",
      "\n",
      "\n",
      "here is output from upper_string\n",
      "_______\n",
      "**CULTURAL IMMERSION:**\n",
      "\n",
      "* **VISIT HISTORICAL TEMPLES AND SHRINES:** EXPLORE ICONIC LANDMARKS SUCH AS KIYOMIZU-DERA, FUSHIMI INARI SHRINE, AND KINKAKU-JI.\n",
      "* **ATTEND TRADITIONAL FESTIVALS:** IMMERSE YOURSELF IN JAPANESE CULTURE AT FESTIVALS LIKE THE GION MATSURI, NEBUTA FESTIVAL, AND YUKI MATSURI.\n",
      "* **LEARN ABOUT TEA CEREMONY AND CALLIGRAPHY:** EXPERIENCE TRADITIONAL JAPANESE ARTS AND CUSTOMS AT TEA HOUSES AND CALLIGRAPHY WORKSHOPS.\n",
      "\n",
      "**NATURAL WONDERS:**\n",
      "\n",
      "* **HIKE MOUNT FUJI:** ASCEND JAPAN'S ICONIC MOUNTAIN FOR BREATHTAKING VIEWS OF THE COUNTRY.\n",
      "* **VISIT NATIONAL PARKS:** EXPLORE THE NATURAL BEAUTY OF JAPAN AT PARKS LIKE NIKKO NATIONAL PARK, HAKONE NATIONAL PARK, AND SHIRETOKO NATIONAL PARK.\n",
      "* **ADMIRE CHERRY BLOSSOMS:** WITNESS THE STUNNING SPECTACLE OF CHERRY BLOSSOMS BLOOMING THROUGHOUT THE COUNTRY DURING SPRING.\n",
      "\n",
      "**CUISINE AND DINING:**\n",
      "\n",
      "* **TASTE AUTHENTIC SUSHI AND SASHIMI:** INDULGE IN THE FRESHEST SEAFOOD AT TRADITIONAL SUSHI RESTAURANTS AND FISH MARKETS.\n",
      "* **EXPLORE STREET FOOD MARKETS:** SAMPLE A VARIETY OF LOCAL DELICACIES, SUCH AS TAKOYAKI, OKONOMIYAKI, AND YAKITORI.\n",
      "* **TRY TRADITIONAL JAPANESE CUISINE:** SAVOR DISHES LIKE TEMPURA, RAMEN, AND SOBA NOODLES.\n",
      "\n",
      "**SHOPPING AND ENTERTAINMENT:**\n",
      "\n",
      "* **STROLL THROUGH SHOPPING ARCADES:** EXPLORE BUSTLING ARCADES LIKE AKIHABARA, SHIBUYA, AND GINZA FOR ELECTRONICS, FASHION, AND SOUVENIRS.\n",
      "* **VISIT ANIME AND MANGA MUSEUMS:** DISCOVER THE WORLD OF JAPANESE ANIME AND MANGA AT MUSEUMS LIKE THE GHIBLI MUSEUM AND THE TOKYO METROPOLITAN ART SPACE.\n",
      "* **ATTEND A SUMO WRESTLING MATCH:** WITNESS THE ANCIENT TRADITION OF SUMO AT ARENAS LIKE RYOGOKU KOKUGIKAN.\n",
      "\n",
      "**OTHER MUST-DO EXPERIENCES:**\n",
      "\n",
      "* **RIDE THE BULLET TRAIN (SHINKANSEN):** EXPERIENCE JAPAN'S HIGH-SPEED RAIL SYSTEM FOR A SCENIC AND EFFICIENT WAY TO TRAVEL.\n",
      "* **STAY IN A TRADITIONAL RYOKAN:** IMMERSE YOURSELF IN JAPANESE HOSPITALITY AT A TRADITIONAL INN WITH TATAMI FLOORING AND ONSEN BATHS.\n",
      "* **VISIT THE IMPERIAL PALACE GARDENS:** EXPLORE THE SERENE GARDENS OF THE IMPERIAL PALACE IN TOKYO.\n",
      "\n",
      "\n"
     ]
    }
   ],
   "source": [
    "input = 'What is the best thing to do in japan'\n",
    "for output in app2.stream(input):\n",
    "    for key,value in output.items():\n",
    "        print(f\"here is output from {key}\")\n",
    "        print(\"_______\")\n",
    "        print(value)\n",
    "        print(\"\\n\")"
   ]
  },
  {
   "cell_type": "markdown",
   "metadata": {},
   "source": [
    "<h2>Now lets create our output token counter</h2>"
   ]
  },
  {
   "cell_type": "code",
   "execution_count": 21,
   "metadata": {},
   "outputs": [],
   "source": [
    "def function3(input):\n",
    "    token=input.split()\n",
    "    token_number=len(token)\n",
    "    token_number=f\"total token number is {token_number}\"\n",
    "    return token_number"
   ]
  },
  {
   "cell_type": "code",
   "execution_count": 22,
   "metadata": {},
   "outputs": [],
   "source": [
    "workflow3=Graph()\n",
    "workflow3.add_node(\"llm\",function1)\n",
    "workflow3.add_node(\"token_counter\",function3)\n",
    "workflow3.add_edge(\"llm\",\"token_counter\")\n",
    "workflow3.set_entry_point(\"llm\")\n",
    "workflow3.set_finish_point(\"token_counter\")\n",
    "app3=workflow3.compile()"
   ]
  },
  {
   "cell_type": "code",
   "execution_count": 23,
   "metadata": {},
   "outputs": [
    {
     "data": {
      "image/jpeg": "[encoded data removed]",
      "text/plain": [
       "<IPython.core.display.Image object>"
      ]
     },
     "metadata": {},
     "output_type": "display_data"
    }
   ],
   "source": [
    "from IPython.display import Image, display\n",
    "\n",
    "try:\n",
    "    display(Image(app3.get_graph().draw_mermaid_png()))\n",
    "except Exception as e:\n",
    "    # This requires some extra dependencies and is optional\n",
    "    print(e)"
   ]
  },
  {
   "cell_type": "code",
   "execution_count": 24,
   "metadata": {},
   "outputs": [
    {
     "data": {
      "text/plain": [
       "'total token number is 2'"
      ]
     },
     "execution_count": 24,
     "metadata": {},
     "output_type": "execute_result"
    }
   ],
   "source": [
    "app3.invoke(\"what is a name of first indian prime minister?\")"
   ]
  },
  {
   "cell_type": "code",
   "execution_count": 25,
   "metadata": {},
   "outputs": [],
   "source": [
    "input=\"Who is current president of USA?\""
   ]
  },
  {
   "cell_type": "code",
   "execution_count": 26,
   "metadata": {},
   "outputs": [
    {
     "name": "stdout",
     "output_type": "stream",
     "text": [
      "here is output from llm\n",
      "_______\n",
      "Joe Biden\n",
      "\n",
      "\n",
      "here is output from token_counter\n",
      "_______\n",
      "total token number is 2\n",
      "\n",
      "\n"
     ]
    }
   ],
   "source": [
    "for output in app3.stream(input):\n",
    "    for key,value in output.items():\n",
    "        print(f\"here is output from {key}\")\n",
    "        print(\"_______\")\n",
    "        print(value)\n",
    "        print(\"\\n\")"
   ]
  },
  {
   "cell_type": "code",
   "execution_count": null,
   "metadata": {},
   "outputs": [],
   "source": []
  }
 ],
 "metadata": {
  "kernelspec": {
   "display_name": "langgraph",
   "language": "python",
   "name": "python3"
  },
  "language_info": {
   "codemirror_mode": {
    "name": "ipython",
    "version": 3
   },
   "file_extension": ".py",
   "mimetype": "text/x-python",
   "name": "python",
   "nbconvert_exporter": "python",
   "pygments_lexer": "ipython3",
   "version": "3.10.14"
  }
 },
 "nbformat": 4,
 "nbformat_minor": 2
}
