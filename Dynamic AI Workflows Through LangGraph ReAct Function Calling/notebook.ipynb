{
 "cells": [
  {
   "cell_type": "markdown",
   "metadata": {},
   "source": [
    "Implementation of the LangGraph ReAct Function Calling Pattern"
   ]
  },
  {
   "cell_type": "code",
   "execution_count": 80,
   "metadata": {},
   "outputs": [],
   "source": [
    "import os\n",
    "from dotenv import load_dotenv\n",
    "load_dotenv(override=True)\n",
    "\n",
    "os.environ['OPENAI_API_KEY'] = os.getenv('OPENAI_API_KEY')\n",
    "os.environ[\"TAVILY_API_KEY\"] = os.getenv('TAVILY_API_KEY')\n",
    "os.environ[\"OPENWEATHERMAP_API_KEY\"] = os.getenv('OPENWEATHERMAP_API_KEY')"
   ]
  },
  {
   "cell_type": "code",
   "execution_count": 5,
   "metadata": {},
   "outputs": [],
   "source": [
    "from langchain_openai import ChatOpenAI\n",
    "#Initializing the language model\n",
    "llm = ChatOpenAI(model=\"gpt-4o\")"
   ]
  },
  {
   "cell_type": "code",
   "execution_count": 7,
   "metadata": {},
   "outputs": [
    {
     "data": {
      "text/plain": [
       "'Tamil Nadu, located in the southern part of India, is renowned for its rich cultural heritage, historical landmarks, and stunning natural beauty. Here are some of the best places to visit in Tamil Nadu:\\n\\n1. **Chennai**: The capital city is a bustling metropolis known for its cultural landmarks, beaches (like Marina Beach), and historical sites. Don\\'t miss the Kapaleeshwarar Temple and Fort St. George.\\n\\n2. **Mahabalipuram**: Famous for its UNESCO World Heritage-listed group of monuments, including rock-cut temples and the Shore Temple. It\\'s also known for its beautiful beaches.\\n\\n3. **Kanchipuram**: Known as the \"City of Thousand Temples,\" it\\'s famous for its ancient temples and silk sarees.\\n\\n4. **Pondicherry**: Although technically a Union Territory, it is surrounded by Tamil Nadu. Known for its French colonial architecture, serene beaches, and the Auroville community.\\n\\n5. **Madurai**: The city is home to the magnificent Meenakshi Amman Temple, a masterpiece of Dravidian architecture. The city is also known for its vibrant culture and history.\\n\\n6. **Rameswaram**: A sacred pilgrimage town, it\\'s famous for the Ramanathaswamy Temple and is considered one of the holiest places in India.\\n\\n7. **Kanyakumari**: The southernmost tip of mainland India, known for its stunning sunrise and sunset views over the ocean, and the Vivekananda Rock Memorial.\\n\\n8. **Ooty (Udhagamandalam)**: A popular hill station in the Nilgiri Hills, known for its tea gardens, scenic beauty, and the Nilgiri Mountain Railway.\\n\\n9. **Coimbatore**: Known as the \"Manchester of South India,\" it\\'s a major industrial city with attractions like the Marudamalai Temple and Isha Yoga Center.\\n\\n10. **Kodaikanal**: Another famous hill station, known for its cool climate, beautiful lakes, waterfalls, and the unique Kurinji flower that blooms every 12 years.\\n\\n11. **Thanjavur**: Famous for the Brihadeeswarar Temple, a UNESCO World Heritage site, and for its contribution to classical Carnatic music and Bharatanatyam dance.\\n\\n12. **Trichy (Tiruchirappalli)**: Known for the Rockfort Temple, Sri Ranganathaswamy Temple, and its historical significance.\\n\\n13. **Yercaud**: A lesser-known hill station, offering beautiful views, coffee plantations, and a serene environment.\\n\\n14. **Coonoor**: Another charming hill station in the Nilgiris, known for its lush greenery, tea estates, and viewpoints like Dolphin\\'s Nose.\\n\\nThese destinations showcase the diversity and richness of Tamil Nadu, offering everything from historical and architectural wonders to natural and scenic beauty.'"
      ]
     },
     "execution_count": 7,
     "metadata": {},
     "output_type": "execute_result"
    }
   ],
   "source": [
    "llm.invoke(\"Best places to visit in Tamilnadu?\").content"
   ]
  },
  {
   "cell_type": "code",
   "execution_count": 8,
   "metadata": {},
   "outputs": [],
   "source": [
    "def multiply(a: int, b: int) -> int:\n",
    "    \"\"\"Multiply a and b.\n",
    "    Args:\n",
    "        a: first int\n",
    "        b: second int\n",
    "    \"\"\"\n",
    "    return a * b\n",
    "# This will be a tool\n",
    "def add(a: int, b: int) -> int:\n",
    "    \"\"\"Adds a and b.\n",
    "    Args:\n",
    "        a: first int\n",
    "        b: second int\n",
    "    \"\"\"\n",
    "    return a + b\n",
    "\n",
    "def divide(a: int, b: int) -> float:\n",
    "    \"\"\"Divide a and b.\n",
    "    Args:\n",
    "        a: first int\n",
    "        b: second int\n",
    "    \"\"\"\n",
    "    return a / b"
   ]
  },
  {
   "cell_type": "code",
   "execution_count": 30,
   "metadata": {},
   "outputs": [],
   "source": [
    "from langchain_community.tools import TavilySearchResults\n",
    "\n",
    "search = TavilySearchResults(\n",
    "    max_results=5,\n",
    "    search_depth=\"advanced\",\n",
    "    include_answer=True,\n",
    "    include_raw_content=True,\n",
    "    include_images=True\n",
    ")"
   ]
  },
  {
   "cell_type": "code",
   "execution_count": 31,
   "metadata": {},
   "outputs": [
    {
     "data": {
      "text/plain": [
       "[{'url': 'https://screenrant.com/wolfs-movie-brad-pitt-george-clooney-ages/',\n",
       "  'content': \"At the time of filming in early 2023, Brad Pitt was 59 years old, having been born on December 18, 1963. Wolfs began production in late 2021, but it wasn't until early 2023 that the film started filming scenes in New York City, just a month after his birthday.Pitt had just finished doing press for his late 2022 movie, Babylon, which was met with a divisive response, making his long-awaited\"},\n",
       " {'url': 'https://nypost.com/2023/12/20/entertainment/brad-pitts-60th-birthday-paris-photos-with-girlfriend-ines-de-ramon/',\n",
       "  'content': 'Brad Pitt rang in his six-decade milestone in a big way — twice! Pitt celebrated his 60th birthday on Monday, along with friends and his girlfriend, Ines de Ramon, 33, with \"low key'},\n",
       " {'url': 'https://www.famousbirthdays.com/people/brad-pitt.html',\n",
       "  'content': 'Brad Pitt - Age, Family, Bio | Famous Birthdays popular trending video trivia random Movie Actor Hollywood star who played lead roles in the films\\xa0Moneyball,\\xa0Fight Club,\\xa0The Curious Case of Benjamin Button,\\xa0World War Z, and\\xa0Inglourious Basterds. He won an Academy Award for Best Supporting Actor for his role as\\xa0Cliff Booth in the 2019 film\\xa0Once Upon a Time in Hollywood. Most Popular #548 Born on December 18 #4 Movie Actor #29 60 Year Old #1 Brad Pitt Movies Angelina Jolie Movie Actor Jennifer Aniston Movie Actor George Clooney Movie Actor Matt Damon Movie Actor Privacy'},\n",
       " {'url': 'https://people.com/brad-pitt-60th-birthday-party-details-pda-balloons-gifts-los-angeles-exclusive-8419170',\n",
       "  'content': \"Brad Pitt marked his 60th birthday with a celebration at Mother Wolf in Los Angeles this week. One onlooker says the actor 'looked super happy' at the party, and 'everyone had a smile on their faces.'\"},\n",
       " {'url': 'https://www.imdb.com/name/nm0000093/',\n",
       "  'content': 'Brad Pitt - IMDb Brad Pitt William Bradley \"Brad\" Pitt was born on December 18, 1963 in Shawnee, Oklahoma and raised in Springfield, Missouri to Jane Etta Pitt (née Hillhouse), a school counselor & William Alvin \"Bill\" Pitt, a truck company manager. His portrayal of frenetic oddball Jeffrey Goines in 12 Monkeys (1995) won him a Globe for Best Performance by an Actor in a Supporting Role. Pitt\\'s portrayal of Achilles in the big-budget period drama Troy (2004) helped establish his appeal as an action star and was closely followed by a co-starring role in the stylish spy-versus-spy flick Mr. & Mrs. Smith that Pitt, who married Jennifer Aniston in a highly publicized ceremony in 2000, met Angelina Jolie. How old is Brad Pitt? *   When was Brad Pitt born? *   Where was Brad Pitt born?'}]"
      ]
     },
     "execution_count": 31,
     "metadata": {},
     "output_type": "execute_result"
    }
   ],
   "source": [
    "search.invoke('How old is brad pitt?')"
   ]
  },
  {
   "cell_type": "code",
   "execution_count": 32,
   "metadata": {},
   "outputs": [],
   "source": [
    "tools = [add, multiply, divide, search]\n",
    "\n",
    "llm_with_tools = llm.bind_tools(tools)"
   ]
  },
  {
   "cell_type": "code",
   "execution_count": 33,
   "metadata": {},
   "outputs": [],
   "source": [
    "from langgraph.graph import MessagesState\n",
    "from langchain_core.messages import HumanMessage, SystemMessage\n",
    "\n",
    "# System message\n",
    "sys_msg = SystemMessage(content=\"You are a helpful assistant tasked with using search and performing arithmetic on a set of inputs.\")"
   ]
  },
  {
   "cell_type": "code",
   "execution_count": 34,
   "metadata": {},
   "outputs": [],
   "source": [
    "def reasoner(state: MessagesState):\n",
    "   return {\"messages\": [llm_with_tools.invoke([sys_msg] + state[\"messages\"])]}"
   ]
  },
  {
   "cell_type": "code",
   "execution_count": 35,
   "metadata": {},
   "outputs": [
    {
     "data": {
      "image/png": "[encoded data removed]",
      "text/plain": [
       "<IPython.core.display.Image object>"
      ]
     },
     "metadata": {},
     "output_type": "display_data"
    }
   ],
   "source": [
    "from langgraph.graph import START, StateGraph\n",
    "from langgraph.prebuilt import tools_condition # this is the checker for the if you got a tool back\n",
    "from langgraph.prebuilt import ToolNode\n",
    "from IPython.display import Image, display\n",
    "\n",
    "# Graph\n",
    "builder = StateGraph(MessagesState)\n",
    "\n",
    "# Add nodes\n",
    "builder.add_node(\"reasoner\", reasoner)\n",
    "builder.add_node(\"tools\", ToolNode(tools)) # for the tools\n",
    "\n",
    "# Add edges\n",
    "builder.add_edge(START, \"reasoner\")\n",
    "builder.add_conditional_edges(\n",
    "    \"reasoner\",\n",
    "    # If the latest message (result) from node reasoner is a tool call -> tools_condition routes to tools\n",
    "    # If the latest message (result) from node reasoner is a not a tool call -> tools_condition routes to END\n",
    "    tools_condition,\n",
    ")\n",
    "builder.add_edge(\"tools\", \"reasoner\")\n",
    "react_graph = builder.compile()\n",
    "\n",
    "# Display the graph\n",
    "display(Image(react_graph.get_graph(xray=True).draw_mermaid_png()))"
   ]
  },
  {
   "cell_type": "code",
   "execution_count": 36,
   "metadata": {},
   "outputs": [
    {
     "name": "stdout",
     "output_type": "stream",
     "text": [
      "================================\u001b[1m Human Message \u001b[0m=================================\n",
      "\n",
      "What is 2 times Brad Pitt's age?\n",
      "==================================\u001b[1m Ai Message \u001b[0m==================================\n",
      "Tool Calls:\n",
      "  tavily_search_results_json (call_knLsn0JokDuBeVubRaMLrki8)\n",
      " Call ID: call_knLsn0JokDuBeVubRaMLrki8\n",
      "  Args:\n",
      "    query: Brad Pitt's age\n",
      "=================================\u001b[1m Tool Message \u001b[0m=================================\n",
      "Name: tavily_search_results_json\n",
      "\n",
      "[{\"url\": \"https://www.hellomagazine.com/celebrities/736816/brad-pitt-birthday-amid-estrangement-from-kids/\", \"content\": \"Brad Pitt's latest birthday marks the third he is celebrating since starting to date girlfriend Inés de Ramón. The F1 actor celebrated his 61st birthday this December 18.\"}, {\"url\": \"https://www.famousbirthdays.com/people/brad-pitt.html\", \"content\": \"Brad Pitt - Age, Family, Bio | Famous Birthdays popular trending video trivia random Movie Actor Hollywood star who played lead roles in the films Moneyball, Fight Club, The Curious Case of Benjamin Button, World War Z, and Inglourious Basterds. He won an Academy Award for Best Supporting Actor for his role as Cliff Booth in the 2019 film Once Upon a Time in Hollywood. Most Popular #548 Born on December 18 #4 Movie Actor #29 60 Year Old #1 Brad Pitt Movies Angelina Jolie Movie Actor Jennifer Aniston Movie Actor George Clooney Movie Actor Matt Damon Movie Actor Privacy\"}, {\"url\": \"https://biographyhost.com/p/brad-pitt-biography.html\", \"content\": \"Age 61 Years, 0 Months ; Nationality American ; Birthplace Shawnee, Oklahoma ; Occupation Actor-film producer ; Parents William Alvin Pitt and Jane Etta ; ... What is Brad Pitt's estimated net worth? As of August 2024, Brad Pitt's estimated net worth is around $400 million.\"}, {\"url\": \"https://m.imdb.com/name/nm0000093/\", \"content\": \"Brad Pitt. Actor: Fight Club. William Bradley \\\"Brad\\\" Pitt was born on December 18, 1963 in Shawnee, Oklahoma and raised in Springfield, Missouri to Jane Etta Pitt (née Hillhouse), a school counselor & William Alvin \\\"Bill\\\" Pitt, a truck company manager. At Kickapoo High School, Pitt was involved in sports, debating, student government and school musicals.\"}, {\"url\": \"https://www.biography.com/actors/brad-pitt\", \"content\": \"If you see something that doesn't look right,contact us!\\nCITATION INFORMATION\\nQUOTES\\nFamous Actors\\nMark Ruffalo\\nClara Bow\\nDave Chappelle\\nHow Carl Weathers Accidentally Became Apollo Creed\\nAlec Baldwin\\nChristina Applegate\\nJeremy Allen White\\n8 Facts about ‘Beef’ Actor Steven Yeun\\nAyo Edebiri\\nRiley Keough\\nThe Oppenheimer Cast And Their IRL Counterparts\\nLily Gladstone\\nA Part of Hearst Digital Media\\nWe may earn commission from links on this page, but we only recommend products we back.\\n The following year, Pitt starred with Julia Roberts in the romantic comedy The Mexican, teamed with Redford again in the thriller Spy Game and joined an A-list ensemble cast, including Roberts, George Clooney and Matt Damon, in Steven Soderbergh's remake of the Rat Pack heist caper Ocean's Eleven. Brad Pitt\\n(1963-)\\nWho Is Brad Pitt?\\nActor and producer Brad Pitt made his big-screen debut in the 1989 horror film Cutting Class and his role in 1994's Legends of the Fall helped secured his place as a Hollywood staple. Pitt made his big-screen debut in 1989's horror/slasher film Cutting Class with Donovan Leitch, and played a teen track star in Sandy Tung's Across the Tracks, but it was a well-timed bit part in a controversial Hollywood film that pushed him into the glare of instant stardom. Pitt told his parents he intended to enroll in the Art Center College of Design in Pasadena but instead spent the next several months driving a limousine — chauffeuring strippers from one bachelor party to the next, delivering refrigerators and trying to break into the L.A. acting scene.\"}]\n",
      "==================================\u001b[1m Ai Message \u001b[0m==================================\n",
      "Tool Calls:\n",
      "  multiply (call_0y7T4kzgRgsLwTaD3oSVaukH)\n",
      " Call ID: call_0y7T4kzgRgsLwTaD3oSVaukH\n",
      "  Args:\n",
      "    a: 61\n",
      "    b: 2\n",
      "=================================\u001b[1m Tool Message \u001b[0m=================================\n",
      "Name: multiply\n",
      "\n",
      "122\n",
      "==================================\u001b[1m Ai Message \u001b[0m==================================\n",
      "\n",
      "Brad Pitt is 61 years old, so 2 times his age is 122.\n"
     ]
    }
   ],
   "source": [
    "messages = [HumanMessage(content=\"What is 2 times Brad Pitt's age?\")]\n",
    "messages = react_graph.invoke({\"messages\": messages})\n",
    "#Displaying the response\n",
    "for m in messages['messages']:\n",
    "    m.pretty_print()"
   ]
  },
  {
   "cell_type": "markdown",
   "metadata": {},
   "source": [
    "### Adding a Custom Tool for Stock Prices"
   ]
  },
  {
   "cell_type": "code",
   "execution_count": 40,
   "metadata": {},
   "outputs": [],
   "source": [
    "import yfinance as yf\n",
    "\n",
    "def get_stock_price(ticker: str) -> float:\n",
    "    \"\"\"Gets a stock price from Yahoo Finance.\n",
    "\n",
    "    Args:\n",
    "        ticker: ticker str\n",
    "    \"\"\"\n",
    "    # \"\"\"This is a tool for getting the price of a stock when passed a ticker symbol\"\"\"\n",
    "    stock = yf.Ticker(ticker)\n",
    "    return stock.info['previousClose']\n"
   ]
  },
  {
   "cell_type": "code",
   "execution_count": 41,
   "metadata": {},
   "outputs": [
    {
     "data": {
      "text/plain": [
       "249.79"
      ]
     },
     "execution_count": 41,
     "metadata": {},
     "output_type": "execute_result"
    }
   ],
   "source": [
    "get_stock_price(\"AAPL\")"
   ]
  },
  {
   "cell_type": "code",
   "execution_count": 87,
   "metadata": {},
   "outputs": [],
   "source": [
    "from langchain_community.utilities import OpenWeatherMapAPIWrapper\n",
    "from langchain_core.tools import Tool\n",
    "\n",
    "# Initialize the weather API wrapper\n",
    "weather_api = OpenWeatherMapAPIWrapper()\n",
    "\n",
    "# Define a callable weather tool\n",
    "def get_weather(location: str) -> str:\n",
    "    \"\"\"Fetch weather information for a given location.\"\"\"\n",
    "    return weather_api.run(location)\n",
    "\n",
    "# Define the tool in the required format\n",
    "weather_tool = Tool(\n",
    "    name=\"weather\",\n",
    "    description=\"Get the current weather for a given location. Input should be a string representing the location.\",\n",
    "    func=get_weather,\n",
    ")"
   ]
  },
  {
   "cell_type": "code",
   "execution_count": 88,
   "metadata": {},
   "outputs": [
    {
     "name": "stdout",
     "output_type": "stream",
     "text": [
      "In London,GB, the current weather is as follows:\n",
      "Detailed status: broken clouds\n",
      "Wind speed: 8.75 m/s, direction: 270°\n",
      "Humidity: 71%\n",
      "Temperature: \n",
      "  - Current: 6.08°C\n",
      "  - High: 7.22°C\n",
      "  - Low: 5.28°C\n",
      "  - Feels like: 1.36°C\n",
      "Rain: {}\n",
      "Heat index: None\n",
      "Cloud cover: 75%\n"
     ]
    }
   ],
   "source": [
    "weather_data = weather_tool.run(\"London,GB\")\n",
    "print(weather_data)"
   ]
  },
  {
   "cell_type": "markdown",
   "metadata": {},
   "source": [
    "### Define the Reasoner Function\n",
    "\n",
    "##### Modifying the reasoner function to accommodate stock-related queries. The function will check the type of query and determine whether to use the stock price tool:"
   ]
  },
  {
   "cell_type": "code",
   "execution_count": 85,
   "metadata": {},
   "outputs": [],
   "source": [
    "from langchain_core.messages import HumanMessage, SystemMessage\n",
    "def reasoner(state):\n",
    "    query = state[\"query\"]\n",
    "    messages = state[\"messages\"]\n",
    "    # System message indicating the assistant's capabilities\n",
    "    sys_msg = SystemMessage(content=\"You are a helpful assistant tasked with using search, the yahoo finance tool, the weather tool and performing arithmetic on a set of inputs.\")\n",
    "    message = HumanMessage(content=query)\n",
    "    messages.append(message)\n",
    "    # Invoke the LLM with the messages\n",
    "    result = [llm_with_tools.invoke([sys_msg] + messages)]\n",
    "    return {\"messages\":result}"
   ]
  },
  {
   "cell_type": "code",
   "execution_count": 89,
   "metadata": {},
   "outputs": [],
   "source": [
    "# Update the tools list to include the stock price function\n",
    "tools = [add, multiply, divide, search, get_stock_price, weather_tool]\n",
    "# Re-initialize the language model with the updated tools\n",
    "llm = ChatOpenAI(model=\"gpt-4o\")\n",
    "llm_with_tools = llm.bind_tools(tools)"
   ]
  },
  {
   "cell_type": "code",
   "execution_count": 90,
   "metadata": {},
   "outputs": [],
   "source": [
    "from typing import Annotated, TypedDict\n",
    "import operator\n",
    "from langchain_core.messages import AnyMessage\n",
    "from langgraph.graph.message import add_messages\n",
    "\n",
    "class GraphState(TypedDict):\n",
    "    \"\"\"State of the graph.\"\"\"\n",
    "    query: str\n",
    "    finance: str\n",
    "    final_answer: str\n",
    "    # intermediate_steps: Annotated[list[tuple[AgentAction, str]], operator.add]\n",
    "    messages: Annotated[list[AnyMessage], operator.add]"
   ]
  },
  {
   "cell_type": "code",
   "execution_count": 91,
   "metadata": {},
   "outputs": [],
   "source": [
    "from langgraph.graph import START, StateGraph\n",
    "from langgraph.prebuilt import tools_condition # this is the checker for the\n",
    "from langgraph.prebuilt import ToolNode\n",
    "# Graph\n",
    "workflow = StateGraph(GraphState)\n",
    "# Add Nodes\n",
    "workflow.add_node(\"reasoner\", reasoner)\n",
    "workflow.add_node(\"tools\", ToolNode(tools)) \n",
    "# Add Edges\n",
    "workflow.add_edge(START, \"reasoner\")\n",
    "workflow.add_conditional_edges(\n",
    "    \"reasoner\",\n",
    "    # If the latest message (result) from node reasoner is a tool call -> tools_condition routes to tools\n",
    "    # If the latest message (result) from node reasoner is a not a tool call -> tools_condition routes to END\n",
    "    tools_condition,\n",
    ")\n",
    "workflow.add_edge(\"tools\", \"reasoner\")\n",
    "react_graph = workflow.compile()"
   ]
  },
  {
   "cell_type": "code",
   "execution_count": 92,
   "metadata": {},
   "outputs": [
    {
     "data": {
      "image/png": "[encoded data removed]",
      "text/plain": [
       "<IPython.core.display.Image object>"
      ]
     },
     "metadata": {},
     "output_type": "display_data"
    }
   ],
   "source": [
    "# Show\n",
    "display(Image(react_graph.get_graph(xray=True).draw_mermaid_png()))"
   ]
  },
  {
   "cell_type": "code",
   "execution_count": 93,
   "metadata": {},
   "outputs": [
    {
     "name": "stdout",
     "output_type": "stream",
     "text": [
      "==================================\u001b[1m Ai Message \u001b[0m==================================\n",
      "\n",
      "In Chennai, the current weather is misty, with a wind speed of 4.12 m/s coming from the direction of 30°. The humidity level is at 84%. The temperature is currently 26.5°C, with a high of 26.99°C and a low of 26.11°C. It feels like 26.5°C, and the cloud cover is at 40%. There is no rain at the moment.\n"
     ]
    }
   ],
   "source": [
    "response = react_graph.invoke({\"query\": \"What is the weather in chennai?\", \"messages\": []})\n",
    "response['messages'][-1].pretty_print()"
   ]
  },
  {
   "cell_type": "code",
   "execution_count": 51,
   "metadata": {},
   "outputs": [
    {
     "name": "stdout",
     "output_type": "stream",
     "text": [
      "================================\u001b[1m Human Message \u001b[0m=================================\n",
      "\n",
      "What is the stock price of ITC?\n",
      "==================================\u001b[1m Ai Message \u001b[0m==================================\n",
      "Tool Calls:\n",
      "  get_stock_price (call_bugYhEjnuKwe6tQXzJXUuwFU)\n",
      " Call ID: call_bugYhEjnuKwe6tQXzJXUuwFU\n",
      "  Args:\n",
      "    ticker: ITC\n",
      "=================================\u001b[1m Tool Message \u001b[0m=================================\n",
      "Name: get_stock_price\n",
      "\n",
      "Error: KeyError('previousClose')\n",
      " Please fix your mistakes.\n",
      "================================\u001b[1m Human Message \u001b[0m=================================\n",
      "\n",
      "What is the stock price of ITC?\n",
      "==================================\u001b[1m Ai Message \u001b[0m==================================\n",
      "Tool Calls:\n",
      "  get_stock_price (call_CDzrVlAdfJNxeDUEraGo3Z5W)\n",
      " Call ID: call_CDzrVlAdfJNxeDUEraGo3Z5W\n",
      "  Args:\n",
      "    ticker: ITC\n",
      "=================================\u001b[1m Tool Message \u001b[0m=================================\n",
      "Name: get_stock_price\n",
      "\n",
      "Error: KeyError('previousClose')\n",
      " Please fix your mistakes.\n",
      "================================\u001b[1m Human Message \u001b[0m=================================\n",
      "\n",
      "What is the stock price of ITC?\n",
      "==================================\u001b[1m Ai Message \u001b[0m==================================\n",
      "Tool Calls:\n",
      "  get_stock_price (call_LcyIqD7mrkm7DvUoNVs1VFid)\n",
      " Call ID: call_LcyIqD7mrkm7DvUoNVs1VFid\n",
      "  Args:\n",
      "    ticker: ITC\n",
      "=================================\u001b[1m Tool Message \u001b[0m=================================\n",
      "Name: get_stock_price\n",
      "\n",
      "Error: KeyError('previousClose')\n",
      " Please fix your mistakes.\n",
      "================================\u001b[1m Human Message \u001b[0m=================================\n",
      "\n",
      "What is the stock price of ITC?\n",
      "==================================\u001b[1m Ai Message \u001b[0m==================================\n",
      "Tool Calls:\n",
      "  get_stock_price (call_1JnQzNLrxA0SAo4863YFw7MN)\n",
      " Call ID: call_1JnQzNLrxA0SAo4863YFw7MN\n",
      "  Args:\n",
      "    ticker: ITC.NS\n",
      "=================================\u001b[1m Tool Message \u001b[0m=================================\n",
      "Name: get_stock_price\n",
      "\n",
      "466.55\n",
      "================================\u001b[1m Human Message \u001b[0m=================================\n",
      "\n",
      "What is the stock price of ITC?\n",
      "==================================\u001b[1m Ai Message \u001b[0m==================================\n",
      "\n",
      "The current stock price of ITC is ₹466.55.\n"
     ]
    }
   ],
   "source": [
    "response = react_graph.invoke({\"query\": \"What is the stock price of ITC?\", \"messages\": []})\n",
    "for m in response['messages']:\n",
    "    m.pretty_print()"
   ]
  },
  {
   "cell_type": "code",
   "execution_count": 52,
   "metadata": {},
   "outputs": [
    {
     "name": "stdout",
     "output_type": "stream",
     "text": [
      "================================\u001b[1m Human Message \u001b[0m=================================\n",
      "\n",
      "What is the stock price of the company that Jensen Huang is CEO of?\n",
      "==================================\u001b[1m Ai Message \u001b[0m==================================\n",
      "Tool Calls:\n",
      "  tavily_search_results_json (call_fzeqmgu8Km4b7XZuDkf8J5lf)\n",
      " Call ID: call_fzeqmgu8Km4b7XZuDkf8J5lf\n",
      "  Args:\n",
      "    query: Jensen Huang CEO company\n",
      "=================================\u001b[1m Tool Message \u001b[0m=================================\n",
      "Name: tavily_search_results_json\n",
      "\n",
      "[{\"url\": \"https://en.wikipedia.org/wiki/Jensen_Huang\", \"content\": \"In 2022 Huang donated US$50 million to his alma mater, Oregon State University, as a portion of a US$200 million donation towards the creation of a supercomputing institute on campus.[10]\\nHuang gave his other alma mater Stanford University US$30 million to build the Jen-Hsun Huang School of Engineering Center.[11] Contents\\nJensen Huang\\nJen-Hsun \\\"Jensen\\\" Huang (Chinese: 黃仁勳; pinyin: Huáng Rénxūn; Pe̍h-ōe-jī: N̂g Jîn-hun; born February 17, 1963) is an American businessman, electrical engineer, and the co-founder, president and CEO of Nvidia Corporation.[2]\\nEarly life[edit]\\nJen-Hsun Huang was born in Tainan, Taiwan, in 1963. He skipped two years and graduated at sixteen.[3]\\nJensen received his undergraduate degree in electrical engineering from Oregon State University in 1984, and his master's degree in electrical engineering from Stanford University in 1992.[5][6]\\nCareer[edit]\\n Huang gave his alma mater Oneida Baptist Institute US$2 million to build Huang Hall, a new girls' dormitory and classroom building.[13]\\nAwards[edit]\\nPersonal life[edit]\\nWhile at Oregon State University, Huang met his future wife, Lori Mills, his engineering lab partner at the time.[3] They have two children.[27] At 30 years old in 1993, Huang co-founded Nvidia with Chris Malachowsky and Curtis Priem and became the CEO and president.[3][7]\\nHe owns 3.6% of Nvidia's stock, which went public in 1999.[8]\"}, {\"url\": \"https://nvidianews.nvidia.com/bios/jensen-huang\", \"content\": \"Huang has been elected to the National Academy of Engineering and is a recipient of the Semiconductor Industry Association’s highest honor, the Robert N. Noyce Award; the IEEE Founder’s Medal; the Dr. Morris Chang Exemplary Leadership Award; and honorary doctorate degrees from Taiwan’s National Chiao Tung University, National Taiwan University, and Oregon State University. The company’s invention of the GPU in 1999 sparked the growth of the PC gaming market, redefined computer graphics, and ignited the era of modern AI. Jensen Huang\\nJensen Huang founded NVIDIA in 1993 and has served since its inception as president, chief executive officer, and a member of the board of directors.\\n He has been named the world’s best CEO by Fortune, the Economist, and Brand Finance, as well as one of TIME magazine’s 100 most influential people.\\n NVIDIA is now driving the platform shift of accelerated computing and generative AI, transforming the world's largest industries and profoundly impacting society.\\n\"}, {\"url\": \"https://www.nvidia.com/en-eu/about-nvidia/governance/management-team/jensen-huang/\", \"content\": \"Huang is a recipient of the Dr. Morris Chang Exemplary Leadership Award from the Global Semiconductor Association in recognition of his exceptional contributions to driving the development, innovation, growth and long-term opportunities of the fabless semiconductor industry. He has received the Daniel J. Epstein Engineering Management Award from the University of Southern California, an honorary doctorate from Taiwan’s National Chiao Tung University, and the EB Lemon Distinguished Alumni Award and an honorary doctorate from Oregon State University. More recently, GPU deep learning ignited modern AI — the next era of computing — with the GPU acting as the brain of computers, robots and self-driving cars that can perceive and understand the world.\\n In 2017, Harvard Business Review ranked him No. 1 on its list of the world’s 100 best-performing CEOs, and, in 2016, No. 1 in the U.S., over the lifetime of their tenure.\\n Jensen Huang\\nFounder, President and CEO\\nJensen Huang founded NVIDIA in 1993 and has served since its inception as president, chief executive officer and a member of the board of directors.\\n\"}, {\"url\": \"https://www.forbes.com/profile/jensen-huang/\", \"content\": \"Jensen Huang, the CEO of Nvidia, has the same caliber of vision and energy to drive his company to be like Apple, a multitrillion-dollar company. By Tim Bajarin Contributor Nov 7, 2024\"}, {\"url\": \"https://economictimes.indiatimes.com/news/international/global-trends/nvidia-ceo-jensen-huang-worlds-most-valuable-company-what-are-the-secrets-of-the-man-that-made-it-an-ai-giant/articleshow/116245421.cms\", \"content\": \"But what are the secrets of Nvidia CEO Jensen Huang that has made Nvidia world's most valuable company? How Jensen Huang made Nvidia world's most valuable company? What started as a solution to a surprisingly tricky problem-T5T emails- today turned out to be one of the most important reasons why Nvidia is world's most valuable company. Nvidia success storyNvidiaJensen HuangTop 5 Things emailsNvidia CEO Jensen HuangNvidia world most valuable companynvidia AI giantnvidia CEO newsJensen Huang latest newsNvidia takes over apple microsoft Subscribe to The Economic Times Prime and read the ET ePaper online. To read full story, subscribe to ET Prime\"}]\n",
      "================================\u001b[1m Human Message \u001b[0m=================================\n",
      "\n",
      "What is the stock price of the company that Jensen Huang is CEO of?\n",
      "==================================\u001b[1m Ai Message \u001b[0m==================================\n",
      "Tool Calls:\n",
      "  get_stock_price (call_kusLwfvP6WoasWulAJHqpV0R)\n",
      " Call ID: call_kusLwfvP6WoasWulAJHqpV0R\n",
      "  Args:\n",
      "    ticker: NVDA\n",
      "=================================\u001b[1m Tool Message \u001b[0m=================================\n",
      "Name: get_stock_price\n",
      "\n",
      "130.68\n",
      "================================\u001b[1m Human Message \u001b[0m=================================\n",
      "\n",
      "What is the stock price of the company that Jensen Huang is CEO of?\n",
      "==================================\u001b[1m Ai Message \u001b[0m==================================\n",
      "\n",
      "The stock price of Nvidia, the company where Jensen Huang is the CEO, is $130.68.\n"
     ]
    }
   ],
   "source": [
    "response = react_graph.invoke({\"query\": \"What is the stock price of the company that Jensen Huang is CEO of?\", \"messages\": []})\n",
    "for m in response['messages']:\n",
    "    m.pretty_print()"
   ]
  },
  {
   "cell_type": "code",
   "execution_count": null,
   "metadata": {},
   "outputs": [],
   "source": []
  }
 ],
 "metadata": {
  "kernelspec": {
   "display_name": "langgraph",
   "language": "python",
   "name": "python3"
  },
  "language_info": {
   "codemirror_mode": {
    "name": "ipython",
    "version": 3
   },
   "file_extension": ".py",
   "mimetype": "text/x-python",
   "name": "python",
   "nbconvert_exporter": "python",
   "pygments_lexer": "ipython3",
   "version": "3.10.14"
  }
 },
 "nbformat": 4,
 "nbformat_minor": 2
}
