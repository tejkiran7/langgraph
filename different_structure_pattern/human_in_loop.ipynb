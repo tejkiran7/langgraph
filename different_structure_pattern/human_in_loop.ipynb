{
 "cells": [
  {
   "cell_type": "markdown",
   "metadata": {},
   "source": [
    "For some actions, you may want to require human approval before running to ensure that everything is running as intended."
   ]
  },
  {
   "cell_type": "code",
   "execution_count": 1,
   "metadata": {},
   "outputs": [],
   "source": [
    "from typing import Annotated\n",
    "import operator,json\n",
    "from typing import TypedDict, Annotated, Sequence\n",
    "from typing_extensions import TypedDict\n",
    "from langchain_core.messages import BaseMessage\n",
    "from langgraph.checkpoint.memory import MemorySaver\n",
    "from langgraph.graph import StateGraph,END,START\n",
    "from langgraph.graph.message import add_messages\n",
    "from langgraph.prebuilt import ToolNode, tools_condition\n",
    "from langchain_core.tools import tool\n",
    "from langchain_community.tools.tavily_search import TavilySearchResults"
   ]
  },
  {
   "cell_type": "code",
   "execution_count": 2,
   "metadata": {},
   "outputs": [],
   "source": [
    "from langchain_openai import ChatOpenAI\n",
    "#Initializing the language model\n",
    "llm = ChatOpenAI(model=\"gpt-4o\")"
   ]
  },
  {
   "cell_type": "code",
   "execution_count": 3,
   "metadata": {},
   "outputs": [
    {
     "data": {
      "text/plain": [
       "AIMessage(content='Hello! How can I assist you today?', additional_kwargs={'refusal': None}, response_metadata={'token_usage': {'completion_tokens': 10, 'prompt_tokens': 8, 'total_tokens': 18, 'completion_tokens_details': {'accepted_prediction_tokens': 0, 'audio_tokens': 0, 'reasoning_tokens': 0, 'rejected_prediction_tokens': 0}, 'prompt_tokens_details': {'audio_tokens': 0, 'cached_tokens': 0}}, 'model_name': 'gpt-4o-2024-08-06', 'system_fingerprint': 'fp_9faba9f038', 'finish_reason': 'stop', 'logprobs': None}, id='run-8dacf91d-4bf6-4c4e-82c7-c6192205299b-0', usage_metadata={'input_tokens': 8, 'output_tokens': 10, 'total_tokens': 18, 'input_token_details': {'audio': 0, 'cache_read': 0}, 'output_token_details': {'audio': 0, 'reasoning': 0}})"
      ]
     },
     "execution_count": 3,
     "metadata": {},
     "output_type": "execute_result"
    }
   ],
   "source": [
    "llm.invoke(\"hi\")"
   ]
  },
  {
   "cell_type": "code",
   "execution_count": 4,
   "metadata": {},
   "outputs": [],
   "source": [
    "@tool\n",
    "def multiply(first_number:int, second_number:int)->int:\n",
    "    \"\"\"multiply two integer number\"\"\"\n",
    "    return first_number * second_number"
   ]
  },
  {
   "cell_type": "code",
   "execution_count": 5,
   "metadata": {},
   "outputs": [
    {
     "name": "stderr",
     "output_type": "stream",
     "text": [
      "C:\\Users\\TEJKIRAN\\AppData\\Local\\Temp\\ipykernel_739608\\634171877.py:1: LangChainDeprecationWarning: The method `BaseTool.__call__` was deprecated in langchain-core 0.1.47 and will be removed in 1.0. Use :meth:`~invoke` instead.\n",
      "  multiply({\"first_number\":1,\"second_number\":7})\n"
     ]
    },
    {
     "data": {
      "text/plain": [
       "7"
      ]
     },
     "execution_count": 5,
     "metadata": {},
     "output_type": "execute_result"
    }
   ],
   "source": [
    "multiply({\"first_number\":1,\"second_number\":7})"
   ]
  },
  {
   "cell_type": "code",
   "execution_count": 6,
   "metadata": {},
   "outputs": [
    {
     "data": {
      "text/plain": [
       "8736"
      ]
     },
     "execution_count": 6,
     "metadata": {},
     "output_type": "execute_result"
    }
   ],
   "source": [
    "multiply.invoke({\"first_number\":24,\"second_number\":364})"
   ]
  },
  {
   "cell_type": "code",
   "execution_count": 7,
   "metadata": {},
   "outputs": [],
   "source": [
    "@tool\n",
    "def search(query:str):\n",
    "    \"\"\"perform the web search on the user query\"\"\"\n",
    "    tavily=TavilySearchResults()\n",
    "    result=tavily.invoke(query)\n",
    "    return result"
   ]
  },
  {
   "cell_type": "code",
   "execution_count": 8,
   "metadata": {},
   "outputs": [
    {
     "data": {
      "text/plain": [
       "[{'url': 'https://simple.wikipedia.org/wiki/President_of_the_United_States',\n",
       "  'content': 'The president is also the head of the executive branch of the federal government of the United States and is the chairman of the presidential cabinet.[10]\\nJoe Biden is the 46th and current president of the United States, in office since January 2021.[11]\\nEligibility and requirements[change | change source]\\nArticle II, Section 1, Clause 5 of the constitution states for a person to serve as president must:\\nElection process and presidential terms[change | change source]\\nThe president is elected by the people through the Electoral College to a four-year term, along with the vice presidential candidate or the incumbent vice president of the United States as their running mate.[12] Contents\\nPresident of the United States\\nThe president of the United States (POTUS)[9] is the head of state and head of government of the United States of America and the commander-in-chief of the United States Armed Forces. Executive Office of the President[change | change source]\\nThe Executive Office of the President consists of the offices and agencies that support the work of the president at the center of the executive branch of the United States federal government. President-elect of the United States[change | change source]\\nThe president-elect of the United States is the candidate who has won the United States presidential election and is awaiting inauguration to become the president.\\n The office consists of several offices and agencies, such as the White House Office, the staff working directly for and reporting to the president, including White House staff, the National Security Council, and the Office of Management and Budget.\\n'},\n",
       " {'url': 'https://www.usa.gov/presidents',\n",
       "  'content': 'Vice president of the United States\\nThe vice president of the United States presides over the U.S. Senate and takes over the role of president of the United States if the president is unable to perform his or her duties. President of the United States\\nThe president of the United States is the:\\nCurrent president\\nThe 46th and current president of the United States is Joseph R. Biden, Jr. First lady\\nThe First lady of the United States has traditionally been the wife or other close female relative of the president of the United States. Requirements to be eligible to become president\\nAccording to Article II of the U.S. Constitution, the president must:\\nLearn about the U.S. presidential election process.\\n If the vice president is not able to fulfill the duties of president, the role is passed to another leader in the order of presidential succession.\\n'},\n",
       " {'url': 'https://en.wikipedia.org/wiki/List_of_Presidents_of_the_United_States',\n",
       "  'content': 'National Union[l]\\n1864\\nAndrew Johnson\\nDemocratic\\n1872\\nHenry Wilson[e]\\nVacant\\xa0afterNovember 22, 1875\\nVacant\\xa0afterNovember 25, 1885\\n1900\\nVacant\\xa0afterNovember 21, 1899\\nTheodore Roosevelt\\n1904\\nCharles W. Fairbanks\\nVacant\\xa0afterOctober 30, 1912\\n1916\\n1924\\nCharles G. Dawes\\n1936\\n1940\\n1944\\nHenry A. Wallace\\nHarry S. Truman\\n1948\\nAlben W. Barkley\\n1956\\n1964\\nHubert Humphrey\\n1972\\nVacant:October 10\\xa0– December 6, 1973\\nGerald Ford[t]\\nNelson Rockefeller[t]\\n1984\\n1996\\n2004\\n2012\\nSee also\\nNotes\\nReferences\\nWorks cited\\nGeneral\\nExpert studies\\nPresidential biographies\\nOnline sources\\nExternal links He was, and remains, the only U.S. president never affiliated with a political party.[13]\\nPresidents\\n1792\\n1804\\nGeorge Clinton\\n1812\\nVacant\\xa0afterApril 20, 1812\\nElbridge Gerry[e]\\nVacant\\xa0afterNovember 23, 1814\\n Contents\\nList of presidents of the United States\\nThe president of the United States is the head of state and head of government of the United States,[1] indirectly elected to a four-year term via the Electoral College.[2] Four presidents died in office of natural causes (William Henry Harrison, Zachary Taylor, Warren G. Harding, and Franklin D. Roosevelt), four were assassinated (Abraham Lincoln, James A. Garfield, William McKinley, and John F. Kennedy), and one resigned (Richard Nixon, facing impeachment and removal from office).[10] John Tyler was the first vice president to assume the presidency during a presidential term, and set the precedent that a vice president who does so becomes the fully functioning president with his presidency.[11]\\nThroughout most of its history, American politics has been dominated by political parties. 1820\\nNational Republican\\n1832\\nVacant\\xa0afterDecember 28, 1832\\nMartin Van Buren\\nUnaffiliated\\nVacant\\xa0afterApril 18, 1853\\n'},\n",
       " {'url': 'https://www.whitehouse.gov/about-the-white-house/presidents/',\n",
       "  'content': 'Presidents | The White House The 4th President of the United States The 5th President of the United States The 6th President of the United States The 7th President of the United States The 8th President of the United States The 9th President of the United States The 10th President of the United States The 11th President of the United States The 12th President of the United States The 13th President of the United States The 14th President of the United States The 15th President of the United States The 16th President of the United States The 17th President of the United States The 18th President of the United States Biden\\xa0Jr. THE 46TH PRESIDENT OF THE UNITED STATES'},\n",
       " {'url': 'https://en.wikipedia.org/wiki/President_of_the_United_States',\n",
       "  'content': 'The following decade, Woodrow Wilson led the nation to victory during World War I, although Wilson\\'s proposal for the League of Nations was rejected by the Senate.[42]\\nWarren Harding, while popular in office, would see his legacy tarnished by scandals, especially Teapot Dome,[43] and Herbert Hoover quickly became very unpopular after failing to alleviate the Great Depression.[44]\\nImperial presidency\\nThe ascendancy of Franklin D. Roosevelt in 1933 led further toward what historians now describe as the Imperial presidency.[45] Backed by enormous Democratic majorities in Congress and public support for major change, Roosevelt\\'s New Deal dramatically increased the size and scope of the federal government, including more executive agencies.[46]:\\u200a211–12\\u200a The traditionally small presidential staff was greatly expanded, with the Executive Office of the President being created in 1939, none of whom require Senate confirmation.[46]:\\u200a229–231\\u200a Roosevelt\\'s unprecedented re-election to a third and fourth term, the victory of the United States in World War II, and the nation\\'s growing economy all helped established the office as a position of global leadership.[46]:\\u200a269\\u200a His successors, Harry Truman and Dwight D. Eisenhower, each served two terms as the Cold War led the presidency to be viewed as the \"leader of the free world\",[47] while John F. Kennedy was a youthful and popular leader who benefited from the rise of television in the 1960s.[48][49]\\nAfter Lyndon B. Johnson lost popular support due to the Vietnam War and Richard Nixon\\'s presidency collapsed in the Watergate scandal, Congress enacted a series of reforms intended to reassert itself.[50][51] However, his successor, Martin Van Buren, became unpopular after the Panic of 1837,[31] and the death of William Henry Harrison and subsequent poor relations between John Tyler and Congress led to further weakening of the office.[32] Including Van Buren, in the 24 years between 1837 and 1861, six presidential terms would be filled by eight different men, with none serving two terms.[33] The Senate played an important role during this period, with the Great Triumvirate of Henry Clay, Daniel Webster, and John C. Calhoun playing key roles in shaping national policy in the 1830s and 1840s until debates over slavery began pulling the nation apart in the 1850s.[34][35]\\nAbraham Lincoln\\'s leadership during the Civil War has led historians to regard him as one of the nation\\'s greatest presidents.[D] The circumstances of the war and Republican domination of Congress made the office very powerful,[36][37] and Lincoln\\'s re-election in 1864 was the first time a president had been re-elected since Jackson in 1832. Recent presidents have thus increasingly focused on executive orders, agency regulations, and judicial appointments to implement major policies, at the expense of legislation and congressional power.[60] Presidential elections in the 21st century have reflected this continuing polarization, with no candidate except Obama in 2008 winning by more than five percent of the popular vote and two, George W. Bush and Donald Trump, winning in the Electoral College while losing the popular vote.[E]\\nCritics of presidency\\'s evolution\\nThe nation\\'s Founding Fathers expected the Congress, which was the first branch of government described in the Constitution, to be the dominant branch of government; however, they did not expect a strong executive department.[61] However, presidential power has shifted over time, which has resulted in claims that the modern presidency has become too powerful,[62][63] unchecked, unbalanced,[64] and \"monarchist\" in nature.[65] The mechanism has been used by Ronald Reagan (once), George W. Bush (twice), and Joe Biden (once), each in anticipation of surgery.[155][156]\\nThe Twenty-fifth Amendment also provides that the vice president, together with a majority of certain members of the Cabinet, may transfer the presidential powers and duties to the vice president by transmitting a written declaration, to the speaker of the House and the president pro tempore of the Senate, to the effect that the president is unable to discharge his or her powers and duties. The exact degree of authority that the Constitution grants to the president as commander-in-chief has been the subject of much debate throughout history, with Congress at various times granting the president wide authority and at others attempting to restrict that authority.[86] The framers of the Constitution took care to limit the president\\'s powers regarding the military; Alexander Hamilton explained this in Federalist No. 69:\\nThe President is to be commander-in-chief of the army and navy of the United States.\\xa0...'}]"
      ]
     },
     "execution_count": 8,
     "metadata": {},
     "output_type": "execute_result"
    }
   ],
   "source": [
    "search(\"who is a current president of USA?\")"
   ]
  },
  {
   "cell_type": "code",
   "execution_count": 9,
   "metadata": {},
   "outputs": [
    {
     "data": {
      "text/plain": [
       "[{'url': 'https://simple.wikipedia.org/wiki/President_of_the_United_States',\n",
       "  'content': 'The president is also the head of the executive branch of the federal government of the United States and is the chairman of the presidential cabinet.[10]\\nJoe Biden is the 46th and current president of the United States, in office since January 2021.[11]\\nEligibility and requirements[change | change source]\\nArticle II, Section 1, Clause 5 of the constitution states for a person to serve as president must:\\nElection process and presidential terms[change | change source]\\nThe president is elected by the people through the Electoral College to a four-year term, along with the vice presidential candidate or the incumbent vice president of the United States as their running mate.[12] Contents\\nPresident of the United States\\nThe president of the United States (POTUS)[9] is the head of state and head of government of the United States of America and the commander-in-chief of the United States Armed Forces. Executive Office of the President[change | change source]\\nThe Executive Office of the President consists of the offices and agencies that support the work of the president at the center of the executive branch of the United States federal government. President-elect of the United States[change | change source]\\nThe president-elect of the United States is the candidate who has won the United States presidential election and is awaiting inauguration to become the president.\\n The office consists of several offices and agencies, such as the White House Office, the staff working directly for and reporting to the president, including White House staff, the National Security Council, and the Office of Management and Budget.\\n'},\n",
       " {'url': 'https://www.usa.gov/presidents',\n",
       "  'content': 'Vice president of the United States\\nThe vice president of the United States presides over the U.S. Senate and takes over the role of president of the United States if the president is unable to perform his or her duties. President of the United States\\nThe president of the United States is the:\\nCurrent president\\nThe 46th and current president of the United States is Joseph R. Biden, Jr. First lady\\nThe First lady of the United States has traditionally been the wife or other close female relative of the president of the United States. Requirements to be eligible to become president\\nAccording to Article II of the U.S. Constitution, the president must:\\nLearn about the U.S. presidential election process.\\n If the vice president is not able to fulfill the duties of president, the role is passed to another leader in the order of presidential succession.\\n'},\n",
       " {'url': 'https://en.wikipedia.org/wiki/List_of_Presidents_of_the_United_States',\n",
       "  'content': 'National Union[l]\\n1864\\nAndrew Johnson\\nDemocratic\\n1872\\nHenry Wilson[e]\\nVacant\\xa0afterNovember 22, 1875\\nVacant\\xa0afterNovember 25, 1885\\n1900\\nVacant\\xa0afterNovember 21, 1899\\nTheodore Roosevelt\\n1904\\nCharles W. Fairbanks\\nVacant\\xa0afterOctober 30, 1912\\n1916\\n1924\\nCharles G. Dawes\\n1936\\n1940\\n1944\\nHenry A. Wallace\\nHarry S. Truman\\n1948\\nAlben W. Barkley\\n1956\\n1964\\nHubert Humphrey\\n1972\\nVacant:October 10\\xa0– December 6, 1973\\nGerald Ford[t]\\nNelson Rockefeller[t]\\n1984\\n1996\\n2004\\n2012\\nSee also\\nNotes\\nReferences\\nWorks cited\\nGeneral\\nExpert studies\\nPresidential biographies\\nOnline sources\\nExternal links He was, and remains, the only U.S. president never affiliated with a political party.[13]\\nPresidents\\n1792\\n1804\\nGeorge Clinton\\n1812\\nVacant\\xa0afterApril 20, 1812\\nElbridge Gerry[e]\\nVacant\\xa0afterNovember 23, 1814\\n Contents\\nList of presidents of the United States\\nThe president of the United States is the head of state and head of government of the United States,[1] indirectly elected to a four-year term via the Electoral College.[2] Four presidents died in office of natural causes (William Henry Harrison, Zachary Taylor, Warren G. Harding, and Franklin D. Roosevelt), four were assassinated (Abraham Lincoln, James A. Garfield, William McKinley, and John F. Kennedy), and one resigned (Richard Nixon, facing impeachment and removal from office).[10] John Tyler was the first vice president to assume the presidency during a presidential term, and set the precedent that a vice president who does so becomes the fully functioning president with his presidency.[11]\\nThroughout most of its history, American politics has been dominated by political parties. 1820\\nNational Republican\\n1832\\nVacant\\xa0afterDecember 28, 1832\\nMartin Van Buren\\nUnaffiliated\\nVacant\\xa0afterApril 18, 1853\\n'},\n",
       " {'url': 'https://www.whitehouse.gov/about-the-white-house/presidents/',\n",
       "  'content': 'Presidents | The White House The 4th President of the United States The 5th President of the United States The 6th President of the United States The 7th President of the United States The 8th President of the United States The 9th President of the United States The 10th President of the United States The 11th President of the United States The 12th President of the United States The 13th President of the United States The 14th President of the United States The 15th President of the United States The 16th President of the United States The 17th President of the United States The 18th President of the United States Biden\\xa0Jr. THE 46TH PRESIDENT OF THE UNITED STATES'},\n",
       " {'url': 'https://en.wikipedia.org/wiki/President_of_the_United_States',\n",
       "  'content': 'The following decade, Woodrow Wilson led the nation to victory during World War I, although Wilson\\'s proposal for the League of Nations was rejected by the Senate.[42]\\nWarren Harding, while popular in office, would see his legacy tarnished by scandals, especially Teapot Dome,[43] and Herbert Hoover quickly became very unpopular after failing to alleviate the Great Depression.[44]\\nImperial presidency\\nThe ascendancy of Franklin D. Roosevelt in 1933 led further toward what historians now describe as the Imperial presidency.[45] Backed by enormous Democratic majorities in Congress and public support for major change, Roosevelt\\'s New Deal dramatically increased the size and scope of the federal government, including more executive agencies.[46]:\\u200a211–12\\u200a The traditionally small presidential staff was greatly expanded, with the Executive Office of the President being created in 1939, none of whom require Senate confirmation.[46]:\\u200a229–231\\u200a Roosevelt\\'s unprecedented re-election to a third and fourth term, the victory of the United States in World War II, and the nation\\'s growing economy all helped established the office as a position of global leadership.[46]:\\u200a269\\u200a His successors, Harry Truman and Dwight D. Eisenhower, each served two terms as the Cold War led the presidency to be viewed as the \"leader of the free world\",[47] while John F. Kennedy was a youthful and popular leader who benefited from the rise of television in the 1960s.[48][49]\\nAfter Lyndon B. Johnson lost popular support due to the Vietnam War and Richard Nixon\\'s presidency collapsed in the Watergate scandal, Congress enacted a series of reforms intended to reassert itself.[50][51] However, his successor, Martin Van Buren, became unpopular after the Panic of 1837,[31] and the death of William Henry Harrison and subsequent poor relations between John Tyler and Congress led to further weakening of the office.[32] Including Van Buren, in the 24 years between 1837 and 1861, six presidential terms would be filled by eight different men, with none serving two terms.[33] The Senate played an important role during this period, with the Great Triumvirate of Henry Clay, Daniel Webster, and John C. Calhoun playing key roles in shaping national policy in the 1830s and 1840s until debates over slavery began pulling the nation apart in the 1850s.[34][35]\\nAbraham Lincoln\\'s leadership during the Civil War has led historians to regard him as one of the nation\\'s greatest presidents.[D] The circumstances of the war and Republican domination of Congress made the office very powerful,[36][37] and Lincoln\\'s re-election in 1864 was the first time a president had been re-elected since Jackson in 1832. Recent presidents have thus increasingly focused on executive orders, agency regulations, and judicial appointments to implement major policies, at the expense of legislation and congressional power.[60] Presidential elections in the 21st century have reflected this continuing polarization, with no candidate except Obama in 2008 winning by more than five percent of the popular vote and two, George W. Bush and Donald Trump, winning in the Electoral College while losing the popular vote.[E]\\nCritics of presidency\\'s evolution\\nThe nation\\'s Founding Fathers expected the Congress, which was the first branch of government described in the Constitution, to be the dominant branch of government; however, they did not expect a strong executive department.[61] However, presidential power has shifted over time, which has resulted in claims that the modern presidency has become too powerful,[62][63] unchecked, unbalanced,[64] and \"monarchist\" in nature.[65] The mechanism has been used by Ronald Reagan (once), George W. Bush (twice), and Joe Biden (once), each in anticipation of surgery.[155][156]\\nThe Twenty-fifth Amendment also provides that the vice president, together with a majority of certain members of the Cabinet, may transfer the presidential powers and duties to the vice president by transmitting a written declaration, to the speaker of the House and the president pro tempore of the Senate, to the effect that the president is unable to discharge his or her powers and duties. The exact degree of authority that the Constitution grants to the president as commander-in-chief has been the subject of much debate throughout history, with Congress at various times granting the president wide authority and at others attempting to restrict that authority.[86] The framers of the Constitution took care to limit the president\\'s powers regarding the military; Alexander Hamilton explained this in Federalist No. 69:\\nThe President is to be commander-in-chief of the army and navy of the United States.\\xa0...'}]"
      ]
     },
     "execution_count": 9,
     "metadata": {},
     "output_type": "execute_result"
    }
   ],
   "source": [
    "search.invoke(\"who is a current president of USA?\")"
   ]
  },
  {
   "cell_type": "code",
   "execution_count": 10,
   "metadata": {},
   "outputs": [],
   "source": [
    "tools=[search,multiply]"
   ]
  },
  {
   "cell_type": "code",
   "execution_count": 11,
   "metadata": {},
   "outputs": [],
   "source": [
    "model_with_tools = llm.bind_tools(tools)"
   ]
  },
  {
   "cell_type": "code",
   "execution_count": 12,
   "metadata": {},
   "outputs": [],
   "source": [
    "tool_mapping={tool.name: tool for tool in tools}"
   ]
  },
  {
   "cell_type": "code",
   "execution_count": 13,
   "metadata": {},
   "outputs": [
    {
     "data": {
      "text/plain": [
       "{'search': StructuredTool(name='search', description='perform the web search on the user query', args_schema=<class 'langchain_core.utils.pydantic.search'>, func=<function search at 0x000001F5FE0FB490>),\n",
       " 'multiply': StructuredTool(name='multiply', description='multiply two integer number', args_schema=<class 'langchain_core.utils.pydantic.multiply'>, func=<function multiply at 0x000001F5FE0FB250>)}"
      ]
     },
     "execution_count": 13,
     "metadata": {},
     "output_type": "execute_result"
    }
   ],
   "source": [
    "tool_mapping"
   ]
  },
  {
   "cell_type": "code",
   "execution_count": 22,
   "metadata": {},
   "outputs": [],
   "source": [
    "response = model_with_tools.invoke(\"who is a current president of USA?\")"
   ]
  },
  {
   "cell_type": "code",
   "execution_count": 23,
   "metadata": {},
   "outputs": [
    {
     "data": {
      "text/plain": [
       "AIMessage(content='', additional_kwargs={'tool_calls': [{'id': 'call_wGNa250j04QtXeGduNc2nOaf', 'function': {'arguments': '{\"query\":\"current president of USA 2023\"}', 'name': 'search'}, 'type': 'function'}], 'refusal': None}, response_metadata={'token_usage': {'completion_tokens': 20, 'prompt_tokens': 77, 'total_tokens': 97, 'completion_tokens_details': {'accepted_prediction_tokens': 0, 'audio_tokens': 0, 'reasoning_tokens': 0, 'rejected_prediction_tokens': 0}, 'prompt_tokens_details': {'audio_tokens': 0, 'cached_tokens': 0}}, 'model_name': 'gpt-4o-2024-08-06', 'system_fingerprint': 'fp_d28bcae782', 'finish_reason': 'tool_calls', 'logprobs': None}, id='run-aaa493e4-edc1-4f2d-b834-dc74f5cc5167-0', tool_calls=[{'name': 'search', 'args': {'query': 'current president of USA 2023'}, 'id': 'call_wGNa250j04QtXeGduNc2nOaf', 'type': 'tool_call'}], usage_metadata={'input_tokens': 77, 'output_tokens': 20, 'total_tokens': 97, 'input_token_details': {'audio': 0, 'cache_read': 0}, 'output_token_details': {'audio': 0, 'reasoning': 0}})"
      ]
     },
     "execution_count": 23,
     "metadata": {},
     "output_type": "execute_result"
    }
   ],
   "source": [
    "response"
   ]
  },
  {
   "cell_type": "code",
   "execution_count": 24,
   "metadata": {},
   "outputs": [],
   "source": [
    "tool_details=response.additional_kwargs.get(\"tool_calls\")"
   ]
  },
  {
   "cell_type": "code",
   "execution_count": 25,
   "metadata": {},
   "outputs": [
    {
     "data": {
      "text/plain": [
       "[{'id': 'call_wGNa250j04QtXeGduNc2nOaf',\n",
       "  'function': {'arguments': '{\"query\":\"current president of USA 2023\"}',\n",
       "   'name': 'search'},\n",
       "  'type': 'function'}]"
      ]
     },
     "execution_count": 25,
     "metadata": {},
     "output_type": "execute_result"
    }
   ],
   "source": [
    "tool_details"
   ]
  },
  {
   "cell_type": "code",
   "execution_count": 26,
   "metadata": {},
   "outputs": [
    {
     "data": {
      "text/plain": [
       "'search'"
      ]
     },
     "execution_count": 26,
     "metadata": {},
     "output_type": "execute_result"
    }
   ],
   "source": [
    "tool_details[0][\"function\"][\"name\"]"
   ]
  },
  {
   "cell_type": "code",
   "execution_count": 27,
   "metadata": {},
   "outputs": [
    {
     "data": {
      "text/plain": [
       "'{\"query\":\"current president of USA 2023\"}'"
      ]
     },
     "execution_count": 27,
     "metadata": {},
     "output_type": "execute_result"
    }
   ],
   "source": [
    "tool_details[0][\"function\"][\"arguments\"]"
   ]
  },
  {
   "cell_type": "code",
   "execution_count": 28,
   "metadata": {},
   "outputs": [
    {
     "data": {
      "text/plain": [
       "{'query': 'current president of USA 2023'}"
      ]
     },
     "execution_count": 28,
     "metadata": {},
     "output_type": "execute_result"
    }
   ],
   "source": [
    "json.loads(tool_details[0][\"function\"][\"arguments\"])"
   ]
  },
  {
   "cell_type": "code",
   "execution_count": 29,
   "metadata": {},
   "outputs": [
    {
     "data": {
      "text/plain": [
       "[{'url': 'https://potus.com/joe-biden/',\n",
       "  'content': '46th President of the United States (January 20, 2021 to Present) Full Name: Joseph Robinette Biden, Jr. Nicknames: \"Amtrak Joe\" Born: November 20, 1942, in Scranton, Pennsylvania. ... 2023. In May, the Department of Health and Human Services declared an end to the COVID-19 Public Health Emergency.'},\n",
       " {'url': 'https://simple.wikipedia.org/wiki/President_of_the_United_States',\n",
       "  'content': 'The president is also the head of the executive branch of the federal government of the United States and is the chairman of the presidential cabinet.[10]\\nJoe Biden is the 46th and current president of the United States, in office since January 2021.[11]\\nEligibility and requirements[change | change source]\\nArticle II, Section 1, Clause 5 of the constitution states for a person to serve as president must:\\nElection process and presidential terms[change | change source]\\nThe president is elected by the people through the Electoral College to a four-year term, along with the vice presidential candidate or the incumbent vice president of the United States as their running mate.[12] Contents\\nPresident of the United States\\nThe president of the United States (POTUS)[9] is the head of state and head of government of the United States of America and the commander-in-chief of the United States Armed Forces. Executive Office of the President[change | change source]\\nThe Executive Office of the President consists of the offices and agencies that support the work of the president at the center of the executive branch of the United States federal government. President-elect of the United States[change | change source]\\nThe president-elect of the United States is the candidate who has won the United States presidential election and is awaiting inauguration to become the president.\\n The office consists of several offices and agencies, such as the White House Office, the staff working directly for and reporting to the president, including White House staff, the National Security Council, and the Office of Management and Budget.\\n'},\n",
       " {'url': 'https://www.usa.gov/presidents',\n",
       "  'content': 'Vice president of the United States\\nThe vice president of the United States presides over the U.S. Senate and takes over the role of president of the United States if the president is unable to perform his or her duties. President of the United States\\nThe president of the United States is the:\\nCurrent president\\nThe 46th and current president of the United States is Joseph R. Biden, Jr. First lady\\nThe First lady of the United States has traditionally been the wife or other close female relative of the president of the United States. Requirements to be eligible to become president\\nAccording to Article II of the U.S. Constitution, the president must:\\nLearn about the U.S. presidential election process.\\n If the vice president is not able to fulfill the duties of president, the role is passed to another leader in the order of presidential succession.\\n'},\n",
       " {'url': 'https://en.wikipedia.org/wiki/Presidency_of_Joe_Biden',\n",
       "  'content': 'On November 23, after Michigan certified its results, Murphy issued the letter of ascertainment, granting the Biden transition team access to federal funds and resources for an orderly transition.[29]\\nTwo days after becoming the projected winner of the 2020 election, Biden announced the formation of a task force to advise him on the COVID-19 pandemic during the transition, co-chaired by former Surgeon General Vivek Murthy, former FDA commissioner David A. Kessler, and Yale University\\'s Marcella Nunez-Smith.[30]\\nOn January 5, 2021, the Democratic Party won control of the United States Senate, effective January 20, as a result of electoral victories in Georgia by Jon Ossoff in a runoff election for a six-year term and Raphael Warnock in a special runoff election for a two-year term.[31][32] President-elect Biden had supported and campaigned for both candidates prior to the runoff elections on January 5.[33][34]\\nOn January 6, a mob of thousands of Trump supporters violently stormed the Capitol in the hope of overturning Biden\\'s election, forcing Congress to evacuate during the counting of the Electoral College votes.[35][36] More than 26,000 National Guard members were deployed to the capital for the inauguration, with thousands remaining into the spring.[37]\\nOn January 20, 2021, Biden was sworn in by U.S. Chief Justice John Roberts as the 46th president of the United States, completing the oath of office at 11:49\\xa0am EST, eleven minutes before the legal start of his term.[38][39]\\nInaugural address\\nBiden\\'s inaugural speech laid out his vision to unite the nation, prefaced by the various impacts of the COVID-19 pandemic, economic strife, climate change, political polarization, and racial injustice.[40] The union representing ICE agents signaled that its agents would not accept reversals of Trump policies.[232]\\nIn March 2021, the Biden administration granted temporary protected status to Venezuelans fleeing the country amidst the ongoing political and economic crisis.[234]\\nOn June 1, 2021, the\\xa0DHS officially terminated the\\xa0Trump-era \"Remain in Mexico\" policy, which mandated that all\\xa0asylum seekers\\xa0from\\xa0Central America\\xa0were to wait in\\xa0Mexico\\xa0pending their court cases; however, a health order from March 2020 allowed the border authorities to send migrants back for the duration of the\\xa0COVID-19 pandemic\\xa0have remained in place.[235][236] However, on August 14, 2021, a federal judge in Texas ordered the Biden administration to reimplement the policy; the Supreme Court placed a pause on the ruling to give the administration time for arguments.[237][238] On August 24, 2021, the Supreme Court ruled that the Biden administration must comply with the lower court\\'s ruling to reinstate the policy.[239][240]\\nEarly on in Biden\\'s tenure, a surge in unaccompanied minors at the U.S. border stirred controversy. The administration also expanded ties with West Africa, including support for infrastructure improvements at the Benin seaport of Cotonou, a key part of the West African economy.[372][376] Biden appointed longtime U.S. diplomat Johnnie Carson to coordinate implementation of U.S. actions following up from the summit.[377]\\nDuring the 2022 summit, Biden and senior administration officials also met privately with six African leaders facing elections in 2023, pushing them to ensure free and fair elections in their nations.[377]\\nSenator Bob Menendez, the Democratic chairman of the Senate Foreign Relations Committee, has criticized the Biden administration for hesitating to impose sanctions on the governments of Sudan and Ethiopia, where many atrocities and war crimes were committed in the Tigray War.[378]\\nArmenian genocide\\nOn April 24, 2021, the Biden administration declared that the Turkish killings of Armenians at the start of the 20th century were a genocide. Others criticize the CDC for implementing this change following lobbying by Delta Airlines, leading to social media backlash against the federal government.[117]\\nBiden gave a speech at the John F. Kennedy Presidential Library and Museum on September 12, 2022, the 60th anniversary of Kennedy\\'s We Choose to Go to the Moon speech, promoting his administration\\'s revival of the Beau Biden Cancer Moonshot, including the new Advanced Research Projects Agency for Health.[118]\\nEconomy\\nOn January 22, 2021, Biden signed an executive order that removed schedule F, overturning a number of Trump\\'s policies that limited the collective bargaining power of federal unions.[119][120][121] Biden\\'s executive order also promotes a $15 minimum wage for federal workers and repeals three of Trump\\'s executive orders which made the employee discipline process stricter and restricted union representatives\\' access to office space. Biden partly attributed the lack of early evacuation of Afghan civilians to the Afghan government\\'s opposition of a \"mass exodus\" which they thought would cause a \"crisis of confidence\".[360]\\nOn August 26, a suicide attack was carried out by the Islamic State of Iraq and the Levant - Khorasan Province at the Hamid Karzai International Airport, killing more than 170 people, including at least 62 Afghan civilians, 13 US service members, two British nationals and the child of a third British national.[361][362] Biden made a public address following the attack, in which he honored the American service members who were killed, calling them \"heroes\" and saying they lost their lives \"in the service of liberty\", and stated that the US had evacuated more than 100,000 Americans, Afghans, and others.'},\n",
       " {'url': 'https://www.whitehouse.gov/administration/president-biden/',\n",
       "  'content': 'After leaving the White House, the Bidens continued their efforts to expand opportunity for every American with the creation of the Biden Foundation, the Biden Cancer Initiative, the Penn Biden Center for Diplomacy and Global Engagement, and the Biden Institute at the University of Delaware.\\n Mobile Menu Overlay\\nThe White House\\n1600 Pennsylvania Ave NW\\nWashington, DC 20500\\nJoe\\xa0Biden\\nThe President\\nNavigate this Section\\nDownload Official Portrait\\nPresident Biden represented Delaware for 36 years in the U.S. Senate before becoming the 47th Vice President of the United States. As Chairman or Ranking Member of the Senate Judiciary Committee for 16 years, Biden is widely recognized for his work writing and spearheading the Violence Against Women Act\\xa0 — the landmark legislation that strengthens penalties for violence against women, creates unprecedented resources for survivors of assault, and changes the national dialogue on domestic and sexual assault.\\n Biden helped President Obama pass and then oversaw the implementation of the Recovery Act — the biggest economic recovery plan in the history of the nation and our biggest and strongest commitment to clean energy. Biden’s candidacy was built from the beginning around 3 pillars: the battle for the soul of our nation, the need to rebuild our middle class — the backbone of our country, and a call for unity, to act as One America.'}]"
      ]
     },
     "execution_count": 29,
     "metadata": {},
     "output_type": "execute_result"
    }
   ],
   "source": [
    "tool_mapping[tool_details[0][\"function\"][\"name\"]].invoke(json.loads(tool_details[0][\"function\"][\"arguments\"]))"
   ]
  },
  {
   "cell_type": "code",
   "execution_count": 30,
   "metadata": {},
   "outputs": [],
   "source": [
    "class AgentState(TypedDict):\n",
    "    messages: Annotated[Sequence[BaseMessage], operator.add]"
   ]
  },
  {
   "cell_type": "code",
   "execution_count": 31,
   "metadata": {},
   "outputs": [],
   "source": [
    "def invoke_model(state:AgentState):\n",
    "    messages = state['messages']\n",
    "    question = messages[-1]   ## Fetching the user question\n",
    "    return {\"messages\":[model_with_tools.invoke(question)]}"
   ]
  },
  {
   "cell_type": "code",
   "execution_count": 32,
   "metadata": {},
   "outputs": [],
   "source": [
    "def invoke_tool(state:AgentState):\n",
    "    tool_details= state['messages'][-1].additional_kwargs.get(\"tool_calls\", [])[0]\n",
    "    \n",
    "    if tool_details is None:\n",
    "        raise Exception(\"no tool call found\")\n",
    "    \n",
    "    print(f'Selected tool: {tool_details.get(\"function\").get(\"name\")}')\n",
    "    \n",
    "    if tool_details.get(\"function\").get(\"name\")==\"search\":\n",
    "        response = input(prompt=f\"[y/n] continue with expensive web search?\")\n",
    "        if response == \"n\":\n",
    "            raise Exception(\"web search discard\")\n",
    "        \n",
    "    response = tool_mapping[tool_details['function']['name']].invoke(json.loads(tool_details.get(\"function\").get(\"arguments\")))\n",
    "    return {\"messages\" : [response]}"
   ]
  },
  {
   "cell_type": "code",
   "execution_count": 33,
   "metadata": {},
   "outputs": [],
   "source": [
    "def router(state):\n",
    "    tool_calls = state['messages'][-1].additional_kwargs.get(\"tool_calls\", [])\n",
    "    if len(tool_calls):\n",
    "        return \"tool\"\n",
    "    else:\n",
    "        return \"end\""
   ]
  },
  {
   "cell_type": "code",
   "execution_count": 34,
   "metadata": {},
   "outputs": [],
   "source": [
    "graph = StateGraph(AgentState) ### StateGraph with AgentState\n",
    "\n",
    "graph.add_node(\"ai_assistant\", invoke_model)\n",
    "\n",
    "graph.add_node(\"tool\", invoke_tool)"
   ]
  },
  {
   "cell_type": "code",
   "execution_count": 35,
   "metadata": {},
   "outputs": [],
   "source": [
    "graph.add_conditional_edges(\"ai_assistant\", router, {\"tool\": \"tool\",\"end\": END,})\n",
    "\n",
    "graph.add_edge(\"tool\", END)\n",
    "\n",
    "#graph.add_edge(\"tool\", \"ai_assistant\")\n",
    "\n",
    "graph.set_entry_point(\"ai_assistant\")"
   ]
  },
  {
   "cell_type": "code",
   "execution_count": 36,
   "metadata": {},
   "outputs": [],
   "source": [
    "app = graph.compile()"
   ]
  },
  {
   "cell_type": "code",
   "execution_count": 37,
   "metadata": {},
   "outputs": [
    {
     "data": {
      "image/png": "[encoded data removed]",
      "text/plain": [
       "<IPython.core.display.Image object>"
      ]
     },
     "metadata": {},
     "output_type": "display_data"
    }
   ],
   "source": [
    "from IPython.display import Image, display\n",
    "display(Image(app.get_graph().draw_mermaid_png()))"
   ]
  },
  {
   "cell_type": "code",
   "execution_count": 38,
   "metadata": {},
   "outputs": [
    {
     "name": "stdout",
     "output_type": "stream",
     "text": [
      "{'messages': [AIMessage(content='', additional_kwargs={'tool_calls': [{'id': 'call_rJqIPm8zULfDcA5Pc1usgSfn', 'function': {'arguments': '{\"query\":\"upcoming president of USA 2024\"}', 'name': 'search'}, 'type': 'function'}], 'refusal': None}, response_metadata={'token_usage': {'completion_tokens': 21, 'prompt_tokens': 76, 'total_tokens': 97, 'completion_tokens_details': {'accepted_prediction_tokens': 0, 'audio_tokens': 0, 'reasoning_tokens': 0, 'rejected_prediction_tokens': 0}, 'prompt_tokens_details': {'audio_tokens': 0, 'cached_tokens': 0}}, 'model_name': 'gpt-4o-2024-08-06', 'system_fingerprint': 'fp_5f20662549', 'finish_reason': 'tool_calls', 'logprobs': None}, id='run-0bc3f188-d9cb-49a9-9628-1c0966869c16-0', tool_calls=[{'name': 'search', 'args': {'query': 'upcoming president of USA 2024'}, 'id': 'call_rJqIPm8zULfDcA5Pc1usgSfn', 'type': 'tool_call'}], usage_metadata={'input_tokens': 76, 'output_tokens': 21, 'total_tokens': 97, 'input_token_details': {'audio': 0, 'cache_read': 0}, 'output_token_details': {'audio': 0, 'reasoning': 0}})]}\n",
      "----\n",
      "Selected tool: search\n",
      "{'messages': [[{'url': 'https://www.usnews.com/news/elections/articles/who-is-running-for-president-in-2024', 'content': 'Former President Donald Trump is the nominee on the Republican side while Vice President Kamala Harris accepted the Democratic nomination following President Joe Biden’s withdrawal from the race. Bio: Biden announced in a letter on July 21 that it was “in the best interest of my party and the country for me to stand down and to focus solely on fulfilling my duties as President for the remainder of my term,” officially removing himself from contention for the Democratic nomination. Tags: 2024 presidential election, primaries, Kamala Harris, Donald Trump, Joe Biden, Mike Pence, Ron DeSantis, Nikki Haley, Asa Hutchinson, Tim Scott, Chris Christie, Marianne Williamson, Robert F.'}, {'url': 'https://ballotpedia.org/List_of_registered_2024_presidential_candidates', 'content': 'Email *\\nFirst Name *\\nLast Name\\nPlease complete the Captcha above\\nShare this page\\nFollow Ballotpedia\\nShare this page\\nFollow Ballotpedia\\nList of registered 2024 presidential candidates\\nThe United States will hold a presidential election on November 5, 2024. Information about voting\\n2024 Elections\\n2025 Elections\\nAnalysis\\nPublic Policy\\nInformation for candidates\\nGet Engaged\\nServices\\nTrending\\nSITE NAVIGATION A candidate may declare his or her candidacy at any time, but once he or she receives contributions or make expenditures in excess of $5,000, the candidate must register with the Federal Election Commission (FEC) within 15 days.[4]\\nOn this page, you will find:\\nRegistered presidential candidates, 1980-2020\\n Amanda Herbert • Mandy Morris • Caroline Presnell • Kelly Rindfleisch\\nPolicy: Caitlin Styrsky • Audrey Bayne • Molly Byrne • Jon Dunn • Jimmy McAllister • Josh Altic\\nTech: Matt Latourelle • Ryan Burch • Kirsten Corrao • Beth Dellea • Travis Eden • Tate Kamish • Margaret Kearney •'}, {'url': 'https://www.latimes.com/politics/story/2024-11-06/trump-defeats-harris-47th-president-election-2024', 'content': 'Trump wins 2024 U.S. presidential election - Los Angeles Times Trump elected 47th president of the United States, defeating Harris to retake White House Nancy Northup, President and CEO of the Center for Reproductive Rights, called Trump’s win “a deadly threat to the democratic values of liberty and equality, the rule of law, and reproductive health, rights, and justice in the United States and around the globe.” “The Democrats thought there were enough people who hated Trump or were willing to fear him to win the race,” Jennings said. 2024 election results: Trump wins second term in historic comeback'}, {'url': 'https://en.wikipedia.org/wiki/2024_United_States_elections', 'content': 'On March 30, 2023, Trump was indicted by a grand jury in Manhattan for his alleged role in a scandal stemming from hush money payments made to Stormy Daniels before the 2016 presidential election.[8]\\nOn May 10, 2023, Republican New York Congressman George Santos was indicted on federal charges of fraud and money laundering.[9]\\nOn June 8, 2023, Trump was indicted on 37 federal charges related to his alleged mishandling of classified documents by the office of the Smith special counsel investigation.[10]\\nOn August 1, 2023, a Washington, D.C., federal grand jury indicted Trump again on four felony counts of conspiracy and obstruction related to Trump\\'s role in the January 6 attack and his efforts to overturn the 2020 election.[11]\\nOn August 14, a Georgia grand jury indicted Trump on racketeering and other felonies committed in an effort to overturn the state\\'s 2020 election results and the Trump–Raffensperger phone call.[12][13] Thus, many conservative political analysts and commentators called a continued Republican alliance with the anti-abortion movement \"untenable\" and an \"electoral disaster\", and urged the party to favor abortion rights.[6] Some issue polling has shown Donald Trump, the likely Republican nominee, outrunning his party and closing the gap with Democrats on the issue of abortion, but no election data with Trump directly on the ballot has happened to verify these results.[7]\\nIndictments[edit]\\nOn November 18, 2022, three days after former president and Republican candidate Donald Trump announced his 2024 re-election bid, U.S. Attorney General Merrick Garland appointed Jack Smith as special counsel to investigate Trump\\'s role in the January 6 U.S. Capitol attack and Trump\\'s mishandling of government documents, including classified documents.\\n Three Democratic-held seats up for election are in the heavily Republican-leaning states of Montana, Ohio, and West Virginia, all of which were won comfortably by Trump in both 2016 and 2020.[23] Other potential Republican targets include seats in Arizona, Michigan, Nevada, Pennsylvania, and Wisconsin, while Democrats may target Republican-held seats in Florida and Texas.[24]\\nTwo special elections are scheduled to fill the unexpired terms of senators who vacated their seats during the 118th Congress:\\nAll 435 voting seats in the United States House of Representatives will be up for election. On August 11, four months after incumbent president and Democratic candidate Joe Biden announced his re-election bid, Garland appointed David C. Weiss to serve as special counsel to investigate Biden\\'s son, Hunter Biden, who was indicted on September 14, 2023, on three federal firearms-related charges.[14][15]\\nOn September 22, 2023, Democratic U.S. Senator Bob Menendez of New Jersey and his wife Nadine were both indicted on bribery charges.[16][17]\\nFederal elections[edit]\\nPresidential election[edit]\\nThe 2024 United States presidential election will be the 60th quadrennial U.S. presidential election. The first Republican presidential debate was held on August 23, 2023, and the first scheduled primary contest is the 2024 Iowa Republican presidential caucuses, which will be held on January 15, 2024.[22]\\nCongressional elections[edit]\\nAll 33 seats in Senate Class 1 and one seat in Senate Class 2 will be up for election; at least one additional special election will take place to fill vacancies that arise during the 118th Congress.'}, {'url': 'https://en.wikipedia.org/wiki/2024_United_States_presidential_election', 'content': 'Meanwhile, states like Colorado, New Mexico and Virginia have moved noticeably towards the Democrats, and the party has become the dominant political force there.[29][30][31]\\nThe Democratic electoral coalition, securing the \"blue states\" for Democratic presidential candidates, performs best among Jewish and Black voters;[32][33] whites who are wealthy or postgraduates,[34] or live in urban areas.[35] Working class voters were also a mainstay of the Democratic coalition since the days of the New Deal, but since the 1970s, many have defected to Republicans as the Democratic Party moved significantly to the left on cultural issues.[36] Conversely, the traditional Republican coalition that dominates many \"red states\" is mainly composed of rural white voters, evangelicals, the elderly, and non-college educated voters.[37]\\nRepublicans have also historically performed well with suburban, middle class voters since the 1950s, but this bloc has drifted away from them in recent years due to the rise of the Tea Party movement and later the Make America Great Again movement.[38] Biden\\'s support for Israel has greatly damaged Muslim support for Democrats in polling.[80] Polling has indicated a significant divide between elite opinion of the Israel–Hamas war, which has overwhelmingly taken the side of Israel, and the general public.[81] A plurality of Americans oppose American military aid to Israel and believe that the United States \"should be a neutral mediator\" in the Israel-Palestinian conflict rather than taking a side.[81] Among voters 18-34, 66 percent disapprove of Israel’s conduct during the war and 20 percent approve, while a majority take the side of Palestinians predominately in the conflict.[82]\\nHealthcare issues\\nThe issue of healthcare and drug policy, including whether the United States should shift to a universal healthcare system,[83] and the COVID-19 pandemic is expected to play a key role in the 2024 presidential election.[84]\\n If Trump is elected, he would become the second president to win a second non-consecutive term, joining Grover Cleveland who did so in 1892.[15]\\nElection interference\\nDonald Trump did not concede to Joe Biden in the 2020 presidential election, citing unsubstantiated claims of voter fraud, and has continued denying the election results as of 2023[update].[16][17] Election security experts have warned that officials who deny the legitimacy of the 2020 presidential election may attempt to impede the voting process or refuse to certify the 2024 election results.[18]\\nPolling before the election has indicated profound dissatisfaction with the state of American democracy.[19][20][21] Liberals tend to believe that conservatives are threatening the country with autocratic tendencies and their attempts to overturn the 2020 election.[22] Many Republicans are concerned with attempts to prevent former President Trump from holding public office by any means necessary, including impeachment and indictment.[23]\\nElectoral map\\n Supporters of the laws claim that conversations about racial identity are not appropriate for a school environment.[66][67][10] Critics of the laws against critical race theory claim they whitewash American history and act as memory laws to rewrite public memory of U.S. history.[68]\\nForeign policy\\nThe Israel–Hamas war and Russian invasion of Ukraine are expected to be significant issues of the campaign.[69]\\nThe United States has provided significant military and humanitarian aid to Ukraine throughout the Russian invasion of Ukraine.[70][71][72] Democratic politicians and a significant number of Republican politicians have supported this plan, arguing that the United States has a significant role to play in \"protecting democracy and fighting Russian aggression. This will be the first U.S. presidential election to occur after the reapportionment of votes in the United States Electoral College following the 2020 United States census.[24][25] If the results of the 2020 election were to stay the same (which has never occurred in the history of presidential elections) in 2024, Democrats would have 303 electoral votes against the Republicans\\' 235, a slight change from Biden\\'s 306 electoral votes and Trump\\'s 232, meaning that Democrats lost a net of 3 electoral votes to the reapportionment process.'}]]}\n",
      "----\n"
     ]
    }
   ],
   "source": [
    "for s in app.stream({\"messages\": [\"who is upcoming president of USA?\"]}):\n",
    "    print(list(s.values())[0])\n",
    "    print(\"----\")"
   ]
  },
  {
   "cell_type": "code",
   "execution_count": 39,
   "metadata": {},
   "outputs": [
    {
     "name": "stdout",
     "output_type": "stream",
     "text": [
      "{'messages': [AIMessage(content='', additional_kwargs={'tool_calls': [{'id': 'call_6bqvGzeSMdtB6z3kO8AhJidg', 'function': {'arguments': '{\"first_number\":23,\"second_number\":46}', 'name': 'multiply'}, 'type': 'function'}], 'refusal': None}, response_metadata={'token_usage': {'completion_tokens': 20, 'prompt_tokens': 79, 'total_tokens': 99, 'completion_tokens_details': {'accepted_prediction_tokens': 0, 'audio_tokens': 0, 'reasoning_tokens': 0, 'rejected_prediction_tokens': 0}, 'prompt_tokens_details': {'audio_tokens': 0, 'cached_tokens': 0}}, 'model_name': 'gpt-4o-2024-08-06', 'system_fingerprint': 'fp_5f20662549', 'finish_reason': 'tool_calls', 'logprobs': None}, id='run-b95f0714-d8ed-41e9-9a9d-5a46a1937519-0', tool_calls=[{'name': 'multiply', 'args': {'first_number': 23, 'second_number': 46}, 'id': 'call_6bqvGzeSMdtB6z3kO8AhJidg', 'type': 'tool_call'}], usage_metadata={'input_tokens': 79, 'output_tokens': 20, 'total_tokens': 99, 'input_token_details': {'audio': 0, 'cache_read': 0}, 'output_token_details': {'audio': 0, 'reasoning': 0}})]}\n",
      "----\n",
      "Selected tool: multiply\n",
      "{'messages': [1058]}\n",
      "----\n"
     ]
    }
   ],
   "source": [
    "for s in app.stream({\"messages\": [\"what is multiplication of 23 and 46?\"]}):\n",
    "    print(list(s.values())[0])\n",
    "    print(\"----\")"
   ]
  },
  {
   "cell_type": "markdown",
   "metadata": {},
   "source": [
    "LangGraph supports human-in-the-loop workflows in a number of ways. In this section, we will use LangGraph's interrupt_before functionality to always break the tool node."
   ]
  },
  {
   "cell_type": "code",
   "execution_count": 40,
   "metadata": {},
   "outputs": [],
   "source": [
    "class AgentState(TypedDict):\n",
    "    messages: Annotated[list, add_messages]"
   ]
  },
  {
   "cell_type": "code",
   "execution_count": 41,
   "metadata": {},
   "outputs": [],
   "source": [
    "tavily=TavilySearchResults()"
   ]
  },
  {
   "cell_type": "code",
   "execution_count": 42,
   "metadata": {},
   "outputs": [],
   "source": [
    "tools = [tavily]"
   ]
  },
  {
   "cell_type": "code",
   "execution_count": 43,
   "metadata": {},
   "outputs": [],
   "source": [
    "llm_with_tools = llm.bind_tools(tools)"
   ]
  },
  {
   "cell_type": "code",
   "execution_count": 44,
   "metadata": {},
   "outputs": [],
   "source": [
    "def ai_assistant(state: AgentState):\n",
    "    return {\"messages\": [llm_with_tools.invoke(state[\"messages\"])]}"
   ]
  },
  {
   "cell_type": "code",
   "execution_count": 45,
   "metadata": {},
   "outputs": [],
   "source": [
    "memory = MemorySaver()"
   ]
  },
  {
   "cell_type": "code",
   "execution_count": 46,
   "metadata": {},
   "outputs": [],
   "source": [
    "graph_builder = StateGraph(AgentState)\n",
    "graph_builder.add_node(\"ai_assistant\", ai_assistant)\n",
    "\n",
    "tool_node = ToolNode(tools=tools)\n",
    "graph_builder.add_node(\"tools\", tool_node)"
   ]
  },
  {
   "cell_type": "code",
   "execution_count": 47,
   "metadata": {},
   "outputs": [],
   "source": [
    "graph_builder.add_edge(START, \"ai_assistant\")\n",
    "\n",
    "graph_builder.add_conditional_edges(\n",
    "    \"ai_assistant\",\n",
    "    tools_condition,\n",
    ")\n",
    "graph_builder.add_edge(\"tools\", \"ai_assistant\")"
   ]
  },
  {
   "cell_type": "code",
   "execution_count": 48,
   "metadata": {},
   "outputs": [],
   "source": [
    "app2 = graph_builder.compile(\n",
    "    checkpointer=memory,\n",
    "    # This is new!\n",
    "    interrupt_before=[\"tools\"],\n",
    "    # Note: can also interrupt __after__ tools, if desired.\n",
    "    # interrupt_after=[\"tools\"]\n",
    ")"
   ]
  },
  {
   "cell_type": "code",
   "execution_count": 49,
   "metadata": {},
   "outputs": [
    {
     "data": {
      "image/png": "[encoded data removed]",
      "text/plain": [
       "<IPython.core.display.Image object>"
      ]
     },
     "metadata": {},
     "output_type": "display_data"
    }
   ],
   "source": [
    "from IPython.display import Image, display\n",
    "display(Image(app2.get_graph().draw_mermaid_png()))"
   ]
  },
  {
   "cell_type": "code",
   "execution_count": 50,
   "metadata": {},
   "outputs": [],
   "source": [
    "user_input = \"what is current a capital of india?\"\n",
    "config = {\"configurable\": {\"thread_id\": \"2\"}}"
   ]
  },
  {
   "cell_type": "code",
   "execution_count": 51,
   "metadata": {},
   "outputs": [],
   "source": [
    "# The config is the **second positional argument** to stream() or invoke()!\n",
    "events = app2.stream(\n",
    "    {\"messages\": [(\"user\", user_input)]}, config, stream_mode=\"values\"\n",
    ")"
   ]
  },
  {
   "cell_type": "code",
   "execution_count": 52,
   "metadata": {},
   "outputs": [
    {
     "name": "stdout",
     "output_type": "stream",
     "text": [
      "================================\u001b[1m Human Message \u001b[0m=================================\n",
      "\n",
      "what is current a capital of india?\n",
      "==================================\u001b[1m Ai Message \u001b[0m==================================\n",
      "Tool Calls:\n",
      "  tavily_search_results_json (call_xig9rZKa5n5uuT5JA3qURGz4)\n",
      " Call ID: call_xig9rZKa5n5uuT5JA3qURGz4\n",
      "  Args:\n",
      "    query: current capital of India\n"
     ]
    }
   ],
   "source": [
    "for event in events:\n",
    "    if \"messages\" in event:\n",
    "        event[\"messages\"][-1].pretty_print()"
   ]
  },
  {
   "cell_type": "code",
   "execution_count": 53,
   "metadata": {},
   "outputs": [],
   "source": [
    "snapshot = app2.get_state(config)"
   ]
  },
  {
   "cell_type": "code",
   "execution_count": 54,
   "metadata": {},
   "outputs": [
    {
     "data": {
      "text/plain": [
       "('tools',)"
      ]
     },
     "execution_count": 54,
     "metadata": {},
     "output_type": "execute_result"
    }
   ],
   "source": [
    "snapshot.next"
   ]
  },
  {
   "cell_type": "code",
   "execution_count": 55,
   "metadata": {},
   "outputs": [],
   "source": [
    "last_message=snapshot.values[\"messages\"][-1]"
   ]
  },
  {
   "cell_type": "code",
   "execution_count": 56,
   "metadata": {},
   "outputs": [
    {
     "data": {
      "text/plain": [
       "[{'name': 'tavily_search_results_json',\n",
       "  'args': {'query': 'current capital of India'},\n",
       "  'id': 'call_xig9rZKa5n5uuT5JA3qURGz4',\n",
       "  'type': 'tool_call'}]"
      ]
     },
     "execution_count": 56,
     "metadata": {},
     "output_type": "execute_result"
    }
   ],
   "source": [
    "last_message.tool_calls"
   ]
  },
  {
   "cell_type": "code",
   "execution_count": 57,
   "metadata": {},
   "outputs": [],
   "source": [
    "# `None` will append nothing new to the current state, letting it resume as if it had never been interrupted\n",
    "events = app2.stream(None, config, stream_mode=\"values\")"
   ]
  },
  {
   "cell_type": "code",
   "execution_count": 58,
   "metadata": {},
   "outputs": [
    {
     "name": "stdout",
     "output_type": "stream",
     "text": [
      "==================================\u001b[1m Ai Message \u001b[0m==================================\n",
      "Tool Calls:\n",
      "  tavily_search_results_json (call_xig9rZKa5n5uuT5JA3qURGz4)\n",
      " Call ID: call_xig9rZKa5n5uuT5JA3qURGz4\n",
      "  Args:\n",
      "    query: current capital of India\n",
      "=================================\u001b[1m Tool Message \u001b[0m=================================\n",
      "Name: tavily_search_results_json\n",
      "\n",
      "[{\"url\": \"https://currentaffairs.adda247.com/states-and-capitals/\", \"content\": \"New Delhi, located in the National Capital Territory of Delhi, serves as the administrative, political, and cultural capital of India. The states and capitals of India form a vibrant tapestry, reflecting the nation's diversity in culture, traditions, and innovation. Exploring these regions is a journey of discovery, bridging the ancient and\"}, {\"url\": \"https://en.wikipedia.org/wiki/List_of_state_and_union_territory_capitals_in_India\", \"content\": \"List of state and union territory capitals in India - Wikipedia List of state and union territory capitals in India India is a federal constitutional republic governed under a parliamentary system consisting of 28 states and 8 union territories.[1] All states, as well as the union territories of Jammu and Kashmir, Puducherry and the National Capital Territory of Delhi, have elected legislatures and governments, both patterned on the Westminster model. The legislatures of three states Himachal Pradesh, Maharashtra and Uttarakhand meet in different capitals for their summer and winter sessions. Nagpur (Winter) | Mumbai | 1960 |  — | State and Union Territory capitals of India Retrieved from \\\"https://en.wikipedia.org/w/index.php?title=List_of_state_and_union_territory_capitals_in_India&oldid=1246142689\\\" States and union territories of India-related lists\"}, {\"url\": \"https://en.wikipedia.org/wiki/List_of_capitals_of_India\", \"content\": \"Jump to content Personal tools Toggle the table of contents List of capitals of India Tools Find sources: \\\"List of capitals of India\\\" – news · newspapers · books · scholar · JSTOR (September 2012) (Learn how and when to remove this message) Vijayanagara: Capital of Vijayanagara Empire from early 14th Century until 1585, when it was abandoned, ostensibly due to lack of water. Pune: In 1730, Pune became the capital of the Marathas of the Maratha Empire.At this time Maratha Empire was at its peak, and became the only non-mughal capital. Retrieved 22 July 2020. Retrieved 21 March 2014. Categories: Lists of cities in IndiaCapitals by countryIndia history-related listsLists of capitals By using this site, you agree to the Terms of Use and Privacy Policy.\"}, {\"url\": \"https://www.careerpower.in/states-and-capitals-of-india.html\", \"content\": \"States and Capitals of India Map\\nYou can check the latest political map of India which provides the total number of states and union territories in India and their capitals at present.\\nStates and Capitals of India- River Map\\nBased on their source, the Indian River system is classified into - Himalayan Rivers and Peninsular Rivers. States and Capitals of India, List 28 States and 8 Union Territories\\nTable of Contents\\nIndian States and Capitals: India is the 7th largest country in the world and also the 2nd most populous. On August 5, the central government had also announced the abrogation of the special status given to Jammu and Kashmir under Article 370 and its division into two Union Territories i.e. UTs of Jammu and Kashmir, and Ladakh.\\n States, UTs and Capitals of India: Important Points\\nAfter getting the list of Indian States & Union Territories with their capitals, let us first understand how to segregate a state from a union territory. States and Capitals of India\\nMany people don't know about the total number of States / Union Territories in India and their capitals.\"}, {\"url\": \"https://www.studyiq.com/articles/states-and-capitals-of-india/\", \"content\": \"Indian States and Capitals. India currently has 28 states and 8 Union territories. Each state has its own administrative, legislative, and judicial capitals, and some have all three in one city. Each state is led by a Chief Minister. Here is a complete list of Indian states, Union territories, and their capitals. States and Capitals of India\"}]\n",
      "==================================\u001b[1m Ai Message \u001b[0m==================================\n",
      "\n",
      "The current capital of India is New Delhi.\n"
     ]
    }
   ],
   "source": [
    "for event in events:\n",
    "    if \"messages\" in event:\n",
    "        event[\"messages\"][-1].pretty_print()\n",
    "     "
   ]
  },
  {
   "cell_type": "code",
   "execution_count": 67,
   "metadata": {},
   "outputs": [],
   "source": [
    "user_input = \"what is a weather there?\"\n",
    "\n",
    "config = {\"configurable\": {\"thread_id\": \"2\"}}"
   ]
  },
  {
   "cell_type": "code",
   "execution_count": 68,
   "metadata": {},
   "outputs": [],
   "source": [
    "# The config is the **second positional argument** to stream() or invoke()!\n",
    "events = app2.stream(\n",
    "    {\"messages\": [(\"user\", user_input)]}, config, stream_mode=\"values\"\n",
    ")"
   ]
  },
  {
   "cell_type": "code",
   "execution_count": 69,
   "metadata": {},
   "outputs": [
    {
     "name": "stdout",
     "output_type": "stream",
     "text": [
      "================================\u001b[1m Human Message \u001b[0m=================================\n",
      "\n",
      "what is a weather there?\n",
      "==================================\u001b[1m Ai Message \u001b[0m==================================\n",
      "Tool Calls:\n",
      "  tavily_search_results_json (call_OgSB5UsLLN0ahpknZz5dWkPJ)\n",
      " Call ID: call_OgSB5UsLLN0ahpknZz5dWkPJ\n",
      "  Args:\n",
      "    query: current weather in New Delhi\n"
     ]
    }
   ],
   "source": [
    "for event in events:\n",
    "    if \"messages\" in event:\n",
    "        event[\"messages\"][-1].pretty_print()"
   ]
  },
  {
   "cell_type": "code",
   "execution_count": 70,
   "metadata": {},
   "outputs": [],
   "source": [
    "snapshot = app2.get_state(config)"
   ]
  },
  {
   "cell_type": "code",
   "execution_count": 71,
   "metadata": {},
   "outputs": [
    {
     "data": {
      "text/plain": [
       "('tools',)"
      ]
     },
     "execution_count": 71,
     "metadata": {},
     "output_type": "execute_result"
    }
   ],
   "source": [
    "snapshot.next"
   ]
  },
  {
   "cell_type": "code",
   "execution_count": 72,
   "metadata": {},
   "outputs": [],
   "source": [
    "last_message=snapshot.values[\"messages\"][-1]"
   ]
  },
  {
   "cell_type": "code",
   "execution_count": 73,
   "metadata": {},
   "outputs": [
    {
     "data": {
      "text/plain": [
       "[{'name': 'tavily_search_results_json',\n",
       "  'args': {'query': 'current weather in New Delhi'},\n",
       "  'id': 'call_OgSB5UsLLN0ahpknZz5dWkPJ',\n",
       "  'type': 'tool_call'}]"
      ]
     },
     "execution_count": 73,
     "metadata": {},
     "output_type": "execute_result"
    }
   ],
   "source": [
    "last_message.tool_calls"
   ]
  },
  {
   "cell_type": "code",
   "execution_count": 74,
   "metadata": {},
   "outputs": [],
   "source": [
    "# `None` will append nothing new to the current state, letting it resume as if it had never been interrupted\n",
    "events = app2.stream(None, config, stream_mode=\"values\")"
   ]
  },
  {
   "cell_type": "code",
   "execution_count": 75,
   "metadata": {},
   "outputs": [
    {
     "name": "stdout",
     "output_type": "stream",
     "text": [
      "==================================\u001b[1m Ai Message \u001b[0m==================================\n",
      "Tool Calls:\n",
      "  tavily_search_results_json (call_OgSB5UsLLN0ahpknZz5dWkPJ)\n",
      " Call ID: call_OgSB5UsLLN0ahpknZz5dWkPJ\n",
      "  Args:\n",
      "    query: current weather in New Delhi\n",
      "=================================\u001b[1m Tool Message \u001b[0m=================================\n",
      "Name: tavily_search_results_json\n",
      "\n",
      "[{\"url\": \"https://www.weatherapi.com/\", \"content\": \"{'location': {'name': 'New Delhi', 'region': 'Delhi', 'country': 'India', 'lat': 28.6, 'lon': 77.2, 'tz_id': 'Asia/Kolkata', 'localtime_epoch': 1735382907, 'localtime': '2024-12-28 16:18'}, 'current': {'last_updated_epoch': 1735382700, 'last_updated': '2024-12-28 16:15', 'temp_c': 20.5, 'temp_f': 68.8, 'is_day': 1, 'condition': {'text': 'Light rain shower', 'icon': '//cdn.weatherapi.com/weather/64x64/day/353.png', 'code': 1240}, 'wind_mph': 2.2, 'wind_kph': 3.6, 'wind_degree': 121, 'wind_dir': 'ESE', 'pressure_mb': 1016.0, 'pressure_in': 30.01, 'precip_mm': 0.36, 'precip_in': 0.01, 'humidity': 62, 'cloud': 97, 'feelslike_c': 20.5, 'feelslike_f': 68.8, 'windchill_c': 20.5, 'windchill_f': 68.8, 'heatindex_c': 20.5, 'heatindex_f': 68.8, 'dewpoint_c': 12.9, 'dewpoint_f': 55.3, 'vis_km': 10.0, 'vis_miles': 6.0, 'uv': 0.2, 'gust_mph': 6.7, 'gust_kph': 10.8}}\"}, {\"url\": \"https://www.timeanddate.com/weather/@28.53674,77.25376\", \"content\": \"Current weather in 28°32'12.2\\\"N, 77°15'13.5\\\"E and forecast for today, tomorrow, and next 14 days. Sign in. News. ... New Delhi / Safdarjung: Current Time: Dec 28, 2024 at 11:44:21 am: Latest Report: Dec 28, 2024 at 5:30 am: Visibility: 0 mi: Pressure: 30.04 \\\"Hg: Humidity: 100%: Dew Point: 57 °F:\"}, {\"url\": \"https://www.hindustantimes.com/cities/delhi-news/delhi-weather-today-aqi-and-rain-forecast-updates-december-28-2024-101735349402648.html\", \"content\": \"The temperature in Delhi today, on December 28, 2024, is 17.87 °C. The day's forecast indicates a minimum and maximum temperature of 13.05 °C and 20.98 °C, respectively. The relative humidity\"}, {\"url\": \"https://www.msn.com/en-in/news/india/delhi-weather-forecast-and-aqi-today-on-december-28-2024-check-out-the-predicted-minimum-and-maximum-temperatures/ar-AA1wB7PF\", \"content\": \"Delhi Weather Forecast and AQI Today: The temperature in Delhi recorded 17.87 °C on December 28, 2024, as per the India Meteorological Department (IMD). The forecast from IMD indicates a minimum\"}, {\"url\": \"https://menafn.com/1109036130/Delhi-Weather-Forecast-And-AQI-Today-On-December-28-2024-Check-Out-The-Predicted-Minimum-And-Maximum-Temperatures\", \"content\": \"Looking ahead to tomorrow, Sunday, December 29, 2024, Delhi is projected by the India Meteorological Department (IMD) to have a minimum temperature of 15.01 °C and a maximum of 21.57 °C.\"}]\n",
      "==================================\u001b[1m Ai Message \u001b[0m==================================\n",
      "\n",
      "The current weather in New Delhi is approximately 20.5°C (68.8°F) with light rain showers. The humidity level is around 62%, and there is a gentle east-southeast wind blowing at about 3.6 km/h. The sky is mostly cloudy with a visibility of 10 km.\n"
     ]
    }
   ],
   "source": [
    "for event in events:\n",
    "    if \"messages\" in event:\n",
    "        event[\"messages\"][-1].pretty_print()\n",
    "     "
   ]
  },
  {
   "cell_type": "code",
   "execution_count": 76,
   "metadata": {},
   "outputs": [
    {
     "data": {
      "text/plain": [
       "StateSnapshot(values={'messages': [HumanMessage(content='what is current a capital of india?', additional_kwargs={}, response_metadata={}, id='a9e19d50-e485-4109-a69b-6db80c622147'), AIMessage(content='', additional_kwargs={'tool_calls': [{'id': 'call_xig9rZKa5n5uuT5JA3qURGz4', 'function': {'arguments': '{\"query\":\"current capital of India\"}', 'name': 'tavily_search_results_json'}, 'type': 'function'}], 'refusal': None}, response_metadata={'token_usage': {'completion_tokens': 22, 'prompt_tokens': 87, 'total_tokens': 109, 'completion_tokens_details': {'accepted_prediction_tokens': 0, 'audio_tokens': 0, 'reasoning_tokens': 0, 'rejected_prediction_tokens': 0}, 'prompt_tokens_details': {'audio_tokens': 0, 'cached_tokens': 0}}, 'model_name': 'gpt-4o-2024-08-06', 'system_fingerprint': 'fp_9faba9f038', 'finish_reason': 'tool_calls', 'logprobs': None}, id='run-46352e9c-930a-4392-ad4e-6a3741e8847b-0', tool_calls=[{'name': 'tavily_search_results_json', 'args': {'query': 'current capital of India'}, 'id': 'call_xig9rZKa5n5uuT5JA3qURGz4', 'type': 'tool_call'}], usage_metadata={'input_tokens': 87, 'output_tokens': 22, 'total_tokens': 109, 'input_token_details': {'audio': 0, 'cache_read': 0}, 'output_token_details': {'audio': 0, 'reasoning': 0}}), ToolMessage(content='[{\"url\": \"https://currentaffairs.adda247.com/states-and-capitals/\", \"content\": \"New Delhi, located in the National Capital Territory of Delhi, serves as the administrative, political, and cultural capital of India. The states and capitals of India form a vibrant tapestry, reflecting the nation\\'s diversity in culture, traditions, and innovation. Exploring these regions is a journey of discovery, bridging the ancient and\"}, {\"url\": \"https://en.wikipedia.org/wiki/List_of_state_and_union_territory_capitals_in_India\", \"content\": \"List of state and union territory capitals in India - Wikipedia List of state and union territory capitals in India India is a federal constitutional republic governed under a parliamentary system consisting of 28 states and 8 union territories.[1] All states, as well as the union territories of Jammu and Kashmir, Puducherry and the National Capital Territory of Delhi, have elected legislatures and governments, both patterned on the Westminster model. The legislatures of three states Himachal Pradesh, Maharashtra and Uttarakhand meet in different capitals for their summer and winter sessions. Nagpur (Winter) | Mumbai | 1960 | \\xa0— | State and Union Territory capitals of India Retrieved from \\\\\"https://en.wikipedia.org/w/index.php?title=List_of_state_and_union_territory_capitals_in_India&oldid=1246142689\\\\\" States and union territories of India-related lists\"}, {\"url\": \"https://en.wikipedia.org/wiki/List_of_capitals_of_India\", \"content\": \"Jump to content Personal tools Toggle the table of contents List of capitals of India Tools Find sources:\\xa0\\\\\"List of capitals of India\\\\\"\\xa0–\\xa0news\\xa0· newspapers\\xa0· books\\xa0· scholar\\xa0· JSTOR (September 2012) (Learn how and when to remove this message) Vijayanagara: Capital of Vijayanagara Empire from early 14th Century until 1585, when it was abandoned, ostensibly due to lack of water. Pune: In 1730, Pune became the capital of the Marathas of the Maratha Empire.At this time Maratha Empire was at its peak, and became the only non-mughal capital. Retrieved 22 July 2020. Retrieved 21 March 2014. Categories: Lists of cities in IndiaCapitals by countryIndia history-related listsLists of capitals By using this site, you agree to the Terms of Use and Privacy Policy.\"}, {\"url\": \"https://www.careerpower.in/states-and-capitals-of-india.html\", \"content\": \"States and Capitals of India Map\\\\nYou can check the latest political map of India which provides the total number of states and union territories in India and their capitals at present.\\\\nStates and Capitals of India- River Map\\\\nBased on their source, the Indian River system is classified into - Himalayan Rivers and Peninsular Rivers. States and Capitals of India, List 28 States and 8 Union Territories\\\\nTable of Contents\\\\nIndian States and Capitals: India is the 7th largest country in the world and also the 2nd most populous. On August 5, the central government had also announced the abrogation of the special status given to Jammu and Kashmir under Article 370 and its division into two Union Territories i.e. UTs of Jammu and Kashmir, and Ladakh.\\\\n States, UTs and Capitals of India: Important Points\\\\nAfter getting the list of Indian States & Union Territories with their capitals, let us first understand how to segregate a state from a union territory. States and Capitals of India\\\\nMany people don\\'t know about the total number of States / Union Territories in India and their capitals.\"}, {\"url\": \"https://www.studyiq.com/articles/states-and-capitals-of-india/\", \"content\": \"Indian States and Capitals. India currently has 28 states and 8 Union territories. Each state has its own administrative, legislative, and judicial capitals, and some have all three in one city. Each state is led by a Chief Minister. Here is a complete list of Indian states, Union territories, and their capitals. States and Capitals of India\"}]', name='tavily_search_results_json', id='5442af1c-d337-41f6-b170-42917c682413', tool_call_id='call_xig9rZKa5n5uuT5JA3qURGz4', artifact={'query': 'current capital of India', 'follow_up_questions': None, 'answer': None, 'images': [], 'results': [{'title': \"States and Capitals of India, List of 28 States and 8 UT's 2024 - adda247\", 'url': 'https://currentaffairs.adda247.com/states-and-capitals/', 'content': \"New Delhi, located in the National Capital Territory of Delhi, serves as the administrative, political, and cultural capital of India. The states and capitals of India form a vibrant tapestry, reflecting the nation's diversity in culture, traditions, and innovation. Exploring these regions is a journey of discovery, bridging the ancient and\", 'score': 0.73596483, 'raw_content': None}, {'title': 'List of state and union territory capitals in India - Wikipedia', 'url': 'https://en.wikipedia.org/wiki/List_of_state_and_union_territory_capitals_in_India', 'content': 'List of state and union territory capitals in India - Wikipedia List of state and union territory capitals in India India is a federal constitutional republic governed under a parliamentary system consisting of 28 states and 8 union territories.[1] All states, as well as the union territories of Jammu and Kashmir, Puducherry and the National Capital Territory of Delhi, have elected legislatures and governments, both patterned on the Westminster model. The legislatures of three states Himachal Pradesh, Maharashtra and Uttarakhand meet in different capitals for their summer and winter sessions. Nagpur (Winter) | Mumbai | 1960 | \\xa0— | State and Union Territory capitals of India Retrieved from \"https://en.wikipedia.org/w/index.php?title=List_of_state_and_union_territory_capitals_in_India&oldid=1246142689\" States and union territories of India-related lists', 'score': 0.67269784, 'raw_content': None}, {'title': 'List of capitals of India - Wikipedia', 'url': 'https://en.wikipedia.org/wiki/List_of_capitals_of_India', 'content': 'Jump to content Personal tools Toggle the table of contents List of capitals of India Tools Find sources:\\xa0\"List of capitals of India\"\\xa0–\\xa0news\\xa0· newspapers\\xa0· books\\xa0· scholar\\xa0· JSTOR (September 2012) (Learn how and when to remove this message) Vijayanagara: Capital of Vijayanagara Empire from early 14th Century until 1585, when it was abandoned, ostensibly due to lack of water. Pune: In 1730, Pune became the capital of the Marathas of the Maratha Empire.At this time Maratha Empire was at its peak, and became the only non-mughal capital. Retrieved 22 July 2020. Retrieved 21 March 2014. Categories: Lists of cities in IndiaCapitals by countryIndia history-related listsLists of capitals By using this site, you agree to the Terms of Use and Privacy Policy.', 'score': 0.629889, 'raw_content': None}, {'title': 'States and Capitals of India, 28 States and 8 UTs in India (Updated in ...', 'url': 'https://www.careerpower.in/states-and-capitals-of-india.html', 'content': \"States and Capitals of India Map\\nYou can check the latest political map of India which provides the total number of states and union territories in India and their capitals at present.\\nStates and Capitals of India- River Map\\nBased on their source, the Indian River system is classified into - Himalayan Rivers and Peninsular Rivers. States and Capitals of India, List 28 States and 8 Union Territories\\nTable of Contents\\nIndian States and Capitals: India is the 7th largest country in the world and also the 2nd most populous. On August 5, the central government had also announced the abrogation of the special status given to Jammu and Kashmir under Article 370 and its division into two Union Territories i.e. UTs of Jammu and Kashmir, and Ladakh.\\n States, UTs and Capitals of India: Important Points\\nAfter getting the list of Indian States & Union Territories with their capitals, let us first understand how to segregate a state from a union territory. States and Capitals of India\\nMany people don't know about the total number of States / Union Territories in India and their capitals.\", 'score': 0.509887, 'raw_content': None}, {'title': 'List of Indian States and Capitals, Map of 28 States and 8 UTs', 'url': 'https://www.studyiq.com/articles/states-and-capitals-of-india/', 'content': 'Indian States and Capitals. India currently has 28 states and 8 Union territories. Each state has its own administrative, legislative, and judicial capitals, and some have all three in one city. Each state is led by a Chief Minister. Here is a complete list of Indian states, Union territories, and their capitals. States and Capitals of India', 'score': 0.5066652, 'raw_content': None}], 'response_time': 1.84}), AIMessage(content='The current capital of India is New Delhi.', additional_kwargs={'refusal': None}, response_metadata={'token_usage': {'completion_tokens': 11, 'prompt_tokens': 969, 'total_tokens': 980, 'completion_tokens_details': {'accepted_prediction_tokens': 0, 'audio_tokens': 0, 'reasoning_tokens': 0, 'rejected_prediction_tokens': 0}, 'prompt_tokens_details': {'audio_tokens': 0, 'cached_tokens': 0}}, 'model_name': 'gpt-4o-2024-08-06', 'system_fingerprint': 'fp_d28bcae782', 'finish_reason': 'stop', 'logprobs': None}, id='run-b635e074-1c6e-4f76-b84a-b0fd6b0cd2b8-0', usage_metadata={'input_tokens': 969, 'output_tokens': 11, 'total_tokens': 980, 'input_token_details': {'audio': 0, 'cache_read': 0}, 'output_token_details': {'audio': 0, 'reasoning': 0}}), HumanMessage(content='what is a weather there?', additional_kwargs={}, response_metadata={}, id='a5e6e5a1-9cfb-4272-a980-c0865144fb7e'), AIMessage(content='', additional_kwargs={'tool_calls': [{'id': 'call_OgSB5UsLLN0ahpknZz5dWkPJ', 'function': {'arguments': '{\"query\":\"current weather in New Delhi\"}', 'name': 'tavily_search_results_json'}, 'type': 'function'}], 'refusal': None}, response_metadata={'token_usage': {'completion_tokens': 23, 'prompt_tokens': 992, 'total_tokens': 1015, 'completion_tokens_details': {'accepted_prediction_tokens': 0, 'audio_tokens': 0, 'reasoning_tokens': 0, 'rejected_prediction_tokens': 0}, 'prompt_tokens_details': {'audio_tokens': 0, 'cached_tokens': 0}}, 'model_name': 'gpt-4o-2024-08-06', 'system_fingerprint': 'fp_d28bcae782', 'finish_reason': 'tool_calls', 'logprobs': None}, id='run-604d1537-8a92-4839-92e2-70e33045bad1-0', tool_calls=[{'name': 'tavily_search_results_json', 'args': {'query': 'current weather in New Delhi'}, 'id': 'call_OgSB5UsLLN0ahpknZz5dWkPJ', 'type': 'tool_call'}], usage_metadata={'input_tokens': 992, 'output_tokens': 23, 'total_tokens': 1015, 'input_token_details': {'audio': 0, 'cache_read': 0}, 'output_token_details': {'audio': 0, 'reasoning': 0}}), ToolMessage(content='[{\"url\": \"https://www.weatherapi.com/\", \"content\": \"{\\'location\\': {\\'name\\': \\'New Delhi\\', \\'region\\': \\'Delhi\\', \\'country\\': \\'India\\', \\'lat\\': 28.6, \\'lon\\': 77.2, \\'tz_id\\': \\'Asia/Kolkata\\', \\'localtime_epoch\\': 1735382907, \\'localtime\\': \\'2024-12-28 16:18\\'}, \\'current\\': {\\'last_updated_epoch\\': 1735382700, \\'last_updated\\': \\'2024-12-28 16:15\\', \\'temp_c\\': 20.5, \\'temp_f\\': 68.8, \\'is_day\\': 1, \\'condition\\': {\\'text\\': \\'Light rain shower\\', \\'icon\\': \\'//cdn.weatherapi.com/weather/64x64/day/353.png\\', \\'code\\': 1240}, \\'wind_mph\\': 2.2, \\'wind_kph\\': 3.6, \\'wind_degree\\': 121, \\'wind_dir\\': \\'ESE\\', \\'pressure_mb\\': 1016.0, \\'pressure_in\\': 30.01, \\'precip_mm\\': 0.36, \\'precip_in\\': 0.01, \\'humidity\\': 62, \\'cloud\\': 97, \\'feelslike_c\\': 20.5, \\'feelslike_f\\': 68.8, \\'windchill_c\\': 20.5, \\'windchill_f\\': 68.8, \\'heatindex_c\\': 20.5, \\'heatindex_f\\': 68.8, \\'dewpoint_c\\': 12.9, \\'dewpoint_f\\': 55.3, \\'vis_km\\': 10.0, \\'vis_miles\\': 6.0, \\'uv\\': 0.2, \\'gust_mph\\': 6.7, \\'gust_kph\\': 10.8}}\"}, {\"url\": \"https://www.timeanddate.com/weather/@28.53674,77.25376\", \"content\": \"Current weather in 28°32\\'12.2\\\\\"N, 77°15\\'13.5\\\\\"E and forecast for today, tomorrow, and next 14 days. Sign in. News. ... New Delhi / Safdarjung: Current Time: Dec 28, 2024 at 11:44:21 am: Latest Report: Dec 28, 2024 at 5:30 am: Visibility: 0 mi: Pressure: 30.04 \\\\\"Hg: Humidity: 100%: Dew Point: 57 °F:\"}, {\"url\": \"https://www.hindustantimes.com/cities/delhi-news/delhi-weather-today-aqi-and-rain-forecast-updates-december-28-2024-101735349402648.html\", \"content\": \"The temperature in Delhi today, on December 28, 2024, is 17.87 °C. The day\\'s forecast indicates a minimum and maximum temperature of 13.05 °C and 20.98 °C, respectively. The relative humidity\"}, {\"url\": \"https://www.msn.com/en-in/news/india/delhi-weather-forecast-and-aqi-today-on-december-28-2024-check-out-the-predicted-minimum-and-maximum-temperatures/ar-AA1wB7PF\", \"content\": \"Delhi Weather Forecast and AQI Today: The temperature in Delhi recorded 17.87 °C on December 28, 2024, as per the India Meteorological Department (IMD). The forecast from IMD indicates a minimum\"}, {\"url\": \"https://menafn.com/1109036130/Delhi-Weather-Forecast-And-AQI-Today-On-December-28-2024-Check-Out-The-Predicted-Minimum-And-Maximum-Temperatures\", \"content\": \"Looking ahead to tomorrow, Sunday, December 29, 2024, Delhi is projected by the India Meteorological Department (IMD) to have a minimum temperature of 15.01 °C and a maximum of 21.57 °C.\"}]', name='tavily_search_results_json', id='6ace0680-c302-4791-9dae-2152acf20288', tool_call_id='call_OgSB5UsLLN0ahpknZz5dWkPJ', artifact={'query': 'current weather in New Delhi', 'follow_up_questions': None, 'answer': None, 'images': [], 'results': [{'title': 'Weather in New Delhi', 'url': 'https://www.weatherapi.com/', 'content': \"{'location': {'name': 'New Delhi', 'region': 'Delhi', 'country': 'India', 'lat': 28.6, 'lon': 77.2, 'tz_id': 'Asia/Kolkata', 'localtime_epoch': 1735382907, 'localtime': '2024-12-28 16:18'}, 'current': {'last_updated_epoch': 1735382700, 'last_updated': '2024-12-28 16:15', 'temp_c': 20.5, 'temp_f': 68.8, 'is_day': 1, 'condition': {'text': 'Light rain shower', 'icon': '//cdn.weatherapi.com/weather/64x64/day/353.png', 'code': 1240}, 'wind_mph': 2.2, 'wind_kph': 3.6, 'wind_degree': 121, 'wind_dir': 'ESE', 'pressure_mb': 1016.0, 'pressure_in': 30.01, 'precip_mm': 0.36, 'precip_in': 0.01, 'humidity': 62, 'cloud': 97, 'feelslike_c': 20.5, 'feelslike_f': 68.8, 'windchill_c': 20.5, 'windchill_f': 68.8, 'heatindex_c': 20.5, 'heatindex_f': 68.8, 'dewpoint_c': 12.9, 'dewpoint_f': 55.3, 'vis_km': 10.0, 'vis_miles': 6.0, 'uv': 0.2, 'gust_mph': 6.7, 'gust_kph': 10.8}}\", 'score': 0.9586323, 'raw_content': None}, {'title': 'Weather in 28°32\\'12.2\"N, 77°15\\'13.5\"E, India - timeanddate.com', 'url': 'https://www.timeanddate.com/weather/@28.53674,77.25376', 'content': 'Current weather in 28°32\\'12.2\"N, 77°15\\'13.5\"E and forecast for today, tomorrow, and next 14 days. Sign in. News. ... New Delhi / Safdarjung: Current Time: Dec 28, 2024 at 11:44:21 am: Latest Report: Dec 28, 2024 at 5:30 am: Visibility: 0 mi: Pressure: 30.04 \"Hg: Humidity: 100%: Dew Point: 57 °F:', 'score': 0.93511593, 'raw_content': None}, {'title': 'Delhi Weather and AQI Today: Check weather forecast for December 28, 2024', 'url': 'https://www.hindustantimes.com/cities/delhi-news/delhi-weather-today-aqi-and-rain-forecast-updates-december-28-2024-101735349402648.html', 'content': \"The temperature in Delhi today, on December 28, 2024, is 17.87 °C. The day's forecast indicates a minimum and maximum temperature of 13.05 °C and 20.98 °C, respectively. The relative humidity\", 'score': 0.9338243, 'raw_content': None}, {'title': 'Delhi Weather Forecast and AQI Today on December 28, 2024: Check ... - MSN', 'url': 'https://www.msn.com/en-in/news/india/delhi-weather-forecast-and-aqi-today-on-december-28-2024-check-out-the-predicted-minimum-and-maximum-temperatures/ar-AA1wB7PF', 'content': 'Delhi Weather Forecast and AQI Today: The temperature in Delhi recorded 17.87 °C on December 28, 2024, as per the India Meteorological Department (IMD). The forecast from IMD indicates a minimum', 'score': 0.92442214, 'raw_content': None}, {'title': 'Delhi Weather Forecast And AQI Today On December 28, 2024: Check Out ...', 'url': 'https://menafn.com/1109036130/Delhi-Weather-Forecast-And-AQI-Today-On-December-28-2024-Check-Out-The-Predicted-Minimum-And-Maximum-Temperatures', 'content': 'Looking ahead to tomorrow, Sunday, December 29, 2024, Delhi is projected by the India Meteorological Department (IMD) to have a minimum temperature of 15.01 °C and a maximum of 21.57 °C.', 'score': 0.9049283, 'raw_content': None}], 'response_time': 2.57}), AIMessage(content='The current weather in New Delhi is approximately 20.5°C (68.8°F) with light rain showers. The humidity level is around 62%, and there is a gentle east-southeast wind blowing at about 3.6 km/h. The sky is mostly cloudy with a visibility of 10 km.', additional_kwargs={'refusal': None}, response_metadata={'token_usage': {'completion_tokens': 67, 'prompt_tokens': 1892, 'total_tokens': 1959, 'completion_tokens_details': {'accepted_prediction_tokens': 0, 'audio_tokens': 0, 'reasoning_tokens': 0, 'rejected_prediction_tokens': 0}, 'prompt_tokens_details': {'audio_tokens': 0, 'cached_tokens': 0}}, 'model_name': 'gpt-4o-2024-08-06', 'system_fingerprint': 'fp_d28bcae782', 'finish_reason': 'stop', 'logprobs': None}, id='run-4e3b7376-54d8-4008-87b7-a9ebd995457c-0', usage_metadata={'input_tokens': 1892, 'output_tokens': 67, 'total_tokens': 1959, 'input_token_details': {'audio': 0, 'cache_read': 0}, 'output_token_details': {'audio': 0, 'reasoning': 0}})]}, next=(), config={'configurable': {'thread_id': '2', 'checkpoint_ns': '', 'checkpoint_id': '1efc5096-9e3e-61a6-8008-e36f78d53810'}}, metadata={'source': 'loop', 'writes': {'ai_assistant': {'messages': [AIMessage(content='The current weather in New Delhi is approximately 20.5°C (68.8°F) with light rain showers. The humidity level is around 62%, and there is a gentle east-southeast wind blowing at about 3.6 km/h. The sky is mostly cloudy with a visibility of 10 km.', additional_kwargs={'refusal': None}, response_metadata={'token_usage': {'completion_tokens': 67, 'prompt_tokens': 1892, 'total_tokens': 1959, 'completion_tokens_details': {'accepted_prediction_tokens': 0, 'audio_tokens': 0, 'reasoning_tokens': 0, 'rejected_prediction_tokens': 0}, 'prompt_tokens_details': {'audio_tokens': 0, 'cached_tokens': 0}}, 'model_name': 'gpt-4o-2024-08-06', 'system_fingerprint': 'fp_d28bcae782', 'finish_reason': 'stop', 'logprobs': None}, id='run-4e3b7376-54d8-4008-87b7-a9ebd995457c-0', usage_metadata={'input_tokens': 1892, 'output_tokens': 67, 'total_tokens': 1959, 'input_token_details': {'audio': 0, 'cache_read': 0}, 'output_token_details': {'audio': 0, 'reasoning': 0}})]}}, 'step': 8, 'parents': {}}, created_at='2024-12-28T10:49:29.369437+00:00', parent_config={'configurable': {'thread_id': '2', 'checkpoint_ns': '', 'checkpoint_id': '1efc5096-8f9c-64a3-8007-3373c8a84583'}}, tasks=())"
      ]
     },
     "execution_count": 76,
     "metadata": {},
     "output_type": "execute_result"
    }
   ],
   "source": [
    "app2.get_state(config)"
   ]
  },
  {
   "cell_type": "code",
   "execution_count": 77,
   "metadata": {},
   "outputs": [],
   "source": [
    "snapshot=app2.get_state(config)"
   ]
  },
  {
   "cell_type": "code",
   "execution_count": 78,
   "metadata": {},
   "outputs": [
    {
     "data": {
      "text/plain": [
       "()"
      ]
     },
     "execution_count": 78,
     "metadata": {},
     "output_type": "execute_result"
    }
   ],
   "source": [
    "snapshot.next"
   ]
  },
  {
   "cell_type": "code",
   "execution_count": 103,
   "metadata": {},
   "outputs": [],
   "source": [
    "user_input = \"give me the recent news of it?\"\n",
    "\n",
    "config = {\"configurable\": {\"thread_id\": \"4\"}}"
   ]
  },
  {
   "cell_type": "code",
   "execution_count": 104,
   "metadata": {},
   "outputs": [],
   "source": [
    "# The config is the **second positional argument** to stream() or invoke()!\n",
    "events = app2.stream(\n",
    "    {\"messages\": [(\"user\", user_input)]}, config, stream_mode=\"values\"\n",
    ")"
   ]
  },
  {
   "cell_type": "code",
   "execution_count": 105,
   "metadata": {},
   "outputs": [
    {
     "name": "stdout",
     "output_type": "stream",
     "text": [
      "================================\u001b[1m Human Message \u001b[0m=================================\n",
      "\n",
      "give me the recent news of it?\n",
      "==================================\u001b[1m Ai Message \u001b[0m==================================\n",
      "Tool Calls:\n",
      "  tavily_search_results_json (call_abn2P8k88edzB4VYLzS1gUs4)\n",
      " Call ID: call_abn2P8k88edzB4VYLzS1gUs4\n",
      "  Args:\n",
      "    query: recent news IT industry\n"
     ]
    }
   ],
   "source": [
    "for event in events:\n",
    "    if \"messages\" in event:\n",
    "        event[\"messages\"][-1].pretty_print()"
   ]
  },
  {
   "cell_type": "code",
   "execution_count": 106,
   "metadata": {},
   "outputs": [],
   "source": [
    "snapshot=app2.get_state(config)"
   ]
  },
  {
   "cell_type": "code",
   "execution_count": 107,
   "metadata": {},
   "outputs": [],
   "source": [
    "current_message = snapshot.values[\"messages\"][-1]"
   ]
  },
  {
   "cell_type": "code",
   "execution_count": 108,
   "metadata": {},
   "outputs": [
    {
     "name": "stdout",
     "output_type": "stream",
     "text": [
      "==================================\u001b[1m Ai Message \u001b[0m==================================\n",
      "Tool Calls:\n",
      "  tavily_search_results_json (call_abn2P8k88edzB4VYLzS1gUs4)\n",
      " Call ID: call_abn2P8k88edzB4VYLzS1gUs4\n",
      "  Args:\n",
      "    query: recent news IT industry\n"
     ]
    }
   ],
   "source": [
    "current_message.pretty_print()"
   ]
  },
  {
   "cell_type": "code",
   "execution_count": 109,
   "metadata": {},
   "outputs": [
    {
     "data": {
      "text/plain": [
       "[{'name': 'tavily_search_results_json',\n",
       "  'args': {'query': 'recent news IT industry'},\n",
       "  'id': 'call_abn2P8k88edzB4VYLzS1gUs4',\n",
       "  'type': 'tool_call'}]"
      ]
     },
     "execution_count": 109,
     "metadata": {},
     "output_type": "execute_result"
    }
   ],
   "source": [
    "current_message.tool_calls"
   ]
  },
  {
   "cell_type": "code",
   "execution_count": 110,
   "metadata": {},
   "outputs": [],
   "source": [
    "tool_call_id = current_message.tool_calls[0][\"id\"]"
   ]
  },
  {
   "cell_type": "code",
   "execution_count": 111,
   "metadata": {},
   "outputs": [
    {
     "data": {
      "text/plain": [
       "'call_abn2P8k88edzB4VYLzS1gUs4'"
      ]
     },
     "execution_count": 111,
     "metadata": {},
     "output_type": "execute_result"
    }
   ],
   "source": [
    "tool_call_id"
   ]
  },
  {
   "cell_type": "code",
   "execution_count": 112,
   "metadata": {},
   "outputs": [],
   "source": [
    "from langchain_core.messages import AIMessage, ToolMessage"
   ]
  },
  {
   "cell_type": "code",
   "execution_count": 113,
   "metadata": {},
   "outputs": [],
   "source": [
    "answer = \"it is just related to raining which is happing on daily basis\""
   ]
  },
  {
   "cell_type": "code",
   "execution_count": 114,
   "metadata": {},
   "outputs": [],
   "source": [
    "new_messages = [\n",
    "    ToolMessage(content=answer, tool_call_id=tool_call_id),\n",
    "    AIMessage(content=answer),\n",
    "]"
   ]
  },
  {
   "cell_type": "code",
   "execution_count": 115,
   "metadata": {},
   "outputs": [
    {
     "data": {
      "text/plain": [
       "{'configurable': {'thread_id': '4',\n",
       "  'checkpoint_ns': '',\n",
       "  'checkpoint_id': '1efc50a0-e0c6-6255-8002-95636a1fb84f'}}"
      ]
     },
     "execution_count": 115,
     "metadata": {},
     "output_type": "execute_result"
    }
   ],
   "source": [
    "app2.update_state(\n",
    "    config,\n",
    "    {\"messages\": new_messages},\n",
    ")"
   ]
  },
  {
   "cell_type": "code",
   "execution_count": 116,
   "metadata": {},
   "outputs": [
    {
     "name": "stdout",
     "output_type": "stream",
     "text": [
      "[AIMessage(content='it is just related to raining which is happing on daily basis', additional_kwargs={}, response_metadata={}, id='c5a61580-1470-4d99-8af1-3da9a72e15fc')]\n"
     ]
    }
   ],
   "source": [
    "print(app2.get_state(config).values[\"messages\"][-1:])"
   ]
  },
  {
   "cell_type": "code",
   "execution_count": null,
   "metadata": {},
   "outputs": [],
   "source": []
  }
 ],
 "metadata": {
  "kernelspec": {
   "display_name": "langgraph",
   "language": "python",
   "name": "python3"
  },
  "language_info": {
   "codemirror_mode": {
    "name": "ipython",
    "version": 3
   },
   "file_extension": ".py",
   "mimetype": "text/x-python",
   "name": "python",
   "nbconvert_exporter": "python",
   "pygments_lexer": "ipython3",
   "version": "3.10.14"
  }
 },
 "nbformat": 4,
 "nbformat_minor": 2
}
