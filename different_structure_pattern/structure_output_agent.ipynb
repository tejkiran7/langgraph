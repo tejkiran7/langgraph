{
 "cells": [
  {
   "cell_type": "markdown",
   "metadata": {
    "vscode": {
     "languageId": "plaintext"
    }
   },
   "source": [
    "**A Structured Output Agent in LangChain (or other LLM frameworks) refers to an agent that produces responses in a specific structured format, such as JSON, dictionaries, or other structured data types. These agents are particularly useful when you want to ensure that your responses conform to a defined schema, making it easier to parse, validate, and utilize in downstream applications.**\n",
    "\n",
    "##### Why Use a Structured Output Agent?\n",
    "- Controlled Responses: Ensures that the outputs follow a specific format, reducing ambiguity.\n",
    "- Data Validation: Useful when you want the model output to fit predefined structures, like for APIs or database entries.\n",
    "- Automation: Makes integration with systems like dashboards, ETL pipelines, or business workflows easier."
   ]
  },
  {
   "cell_type": "code",
   "execution_count": 1,
   "metadata": {},
   "outputs": [],
   "source": [
    "from langchain_community.tools.tavily_search import TavilySearchResults\n",
    "from langchain_core.tools import tool\n",
    "from pydantic import BaseModel, Field\n",
    "from langgraph.graph import MessagesState,StateGraph, END\n",
    "from langgraph.prebuilt import ToolNode\n",
    "from langchain_core.messages import HumanMessage"
   ]
  },
  {
   "cell_type": "code",
   "execution_count": 2,
   "metadata": {},
   "outputs": [],
   "source": [
    "from langchain_openai import ChatOpenAI\n",
    "#Initializing the language model\n",
    "llm = ChatOpenAI(model=\"gpt-4o\")"
   ]
  },
  {
   "cell_type": "code",
   "execution_count": 4,
   "metadata": {},
   "outputs": [],
   "source": [
    "tavily_tool = TavilySearchResults()"
   ]
  },
  {
   "cell_type": "code",
   "execution_count": 5,
   "metadata": {},
   "outputs": [],
   "source": [
    "@tool\n",
    "def get_city_details(prompt):\n",
    "    \"Should do a web search to find the required city details\"\n",
    "    response = tavily_tool.invoke(prompt)\n",
    "    return response"
   ]
  },
  {
   "cell_type": "code",
   "execution_count": 6,
   "metadata": {},
   "outputs": [],
   "source": [
    "tools = [get_city_details]"
   ]
  },
  {
   "cell_type": "code",
   "execution_count": 7,
   "metadata": {},
   "outputs": [],
   "source": [
    "model_with_tools = llm.bind_tools(tools)"
   ]
  },
  {
   "cell_type": "code",
   "execution_count": 8,
   "metadata": {},
   "outputs": [],
   "source": [
    "class CityDetails(BaseModel):\n",
    "    \"\"\"Respond to the user with this\"\"\"\n",
    "    state_name: str = Field(description=\"State name of the city\")\n",
    "    state_capital: str = Field(description=\"State capital of the city\")\n",
    "    country_name: str = Field(description=\"Country name of the city\")\n",
    "    country_capital: str = Field(description=\"Country capital of the city\")"
   ]
  },
  {
   "cell_type": "code",
   "execution_count": 9,
   "metadata": {},
   "outputs": [],
   "source": [
    "# Inherit 'messages' key from MessagesState, which is a list of chat messages\n",
    "class AgentState(MessagesState):\n",
    "    # Final structured response from the agent\n",
    "    final_response: CityDetails"
   ]
  },
  {
   "cell_type": "code",
   "execution_count": 10,
   "metadata": {},
   "outputs": [],
   "source": [
    "model_with_structured_output = llm.with_structured_output(CityDetails)"
   ]
  },
  {
   "cell_type": "code",
   "execution_count": 11,
   "metadata": {},
   "outputs": [],
   "source": [
    "def call_model(state: AgentState):\n",
    "    print(f\" this is 01 input from call model {state}\")\n",
    "    response = model_with_tools.invoke(state['messages'])\n",
    "    print(f\"this is 02 response from call model  {response}\")\n",
    "    # We return a list, because this will get added to the existing list\n",
    "    return {\"messages\": [response]}"
   ]
  },
  {
   "cell_type": "code",
   "execution_count": 12,
   "metadata": {},
   "outputs": [],
   "source": [
    "def should_continue(state: AgentState):\n",
    "    messages = state[\"messages\"]\n",
    "    last_message = messages[-1]\n",
    "    \n",
    "    # If there is no function call, then we respond to the user\n",
    "    if not last_message.tool_calls:\n",
    "        return \"respond\"\n",
    "    # Otherwise if there is, we continue with the tool\n",
    "    else:\n",
    "        return \"continue\""
   ]
  },
  {
   "cell_type": "code",
   "execution_count": 13,
   "metadata": {},
   "outputs": [],
   "source": [
    "def respond(state: AgentState):\n",
    "    print(f\"here is 03 state from respond {state}\")\n",
    "    response = model_with_structured_output.invoke([HumanMessage(content=state['messages'][-1].content)])\n",
    "    # We return the final answer\n",
    "    print(f\"this is 04 response from respond{response}\")\n",
    "    return {\"final_response\": response}"
   ]
  },
  {
   "cell_type": "code",
   "execution_count": 14,
   "metadata": {},
   "outputs": [],
   "source": [
    "# Define a new graph\n",
    "workflow = StateGraph(AgentState)\n",
    "\n",
    "# Define the two nodes we will cycle between\n",
    "workflow.add_node(\"llm\", call_model)\n",
    "workflow.add_node(\"tools\", ToolNode(tools))\n",
    "workflow.add_node(\"respond\", respond)\n",
    "\n",
    "\n",
    "# Set the entrypoint as `agent`\n",
    "# This means that this node is the first one called\n",
    "workflow.set_entry_point(\"llm\")\n",
    "\n",
    "# We now add a conditional edge\n",
    "workflow.add_conditional_edges(\n",
    "    \"llm\",\n",
    "    \n",
    "    should_continue,\n",
    "    {\n",
    "        \"continue\": \"tools\",\n",
    "        \"respond\": \"respond\",\n",
    "    },\n",
    ")\n",
    "\n",
    "workflow.add_edge(\"tools\", \"llm\")\n",
    "workflow.add_edge(\"respond\", END)\n",
    "graph = workflow.compile()"
   ]
  },
  {
   "cell_type": "code",
   "execution_count": 15,
   "metadata": {},
   "outputs": [
    {
     "data": {
      "image/png": "[encoded data removed]",
      "text/plain": [
       "<IPython.core.display.Image object>"
      ]
     },
     "metadata": {},
     "output_type": "display_data"
    }
   ],
   "source": [
    "from IPython.display import Image, display\n",
    "# View\n",
    "display(Image(graph.get_graph().draw_mermaid_png()))"
   ]
  },
  {
   "cell_type": "code",
   "execution_count": 16,
   "metadata": {},
   "outputs": [
    {
     "name": "stdout",
     "output_type": "stream",
     "text": [
      " this is 01 input from call model {'messages': [HumanMessage(content='Tell me about the city details for gwalior?', additional_kwargs={}, response_metadata={}, id='e3ca3b83-4379-4953-8e9c-bdf827aba7de')]}\n",
      "this is 02 response from call model  content='' additional_kwargs={'tool_calls': [{'id': 'call_RbYV6UKlscWV5UQJYaGRYPO3', 'function': {'arguments': '{\"prompt\":\"city details for Gwalior\"}', 'name': 'get_city_details'}, 'type': 'function'}], 'refusal': None} response_metadata={'token_usage': {'completion_tokens': 21, 'prompt_tokens': 61, 'total_tokens': 82, 'completion_tokens_details': {'accepted_prediction_tokens': 0, 'audio_tokens': 0, 'reasoning_tokens': 0, 'rejected_prediction_tokens': 0}, 'prompt_tokens_details': {'audio_tokens': 0, 'cached_tokens': 0}}, 'model_name': 'gpt-4o-2024-08-06', 'system_fingerprint': 'fp_d28bcae782', 'finish_reason': 'tool_calls', 'logprobs': None} id='run-65352d5d-001b-4f26-b71a-bf29307d91ca-0' tool_calls=[{'name': 'get_city_details', 'args': {'prompt': 'city details for Gwalior'}, 'id': 'call_RbYV6UKlscWV5UQJYaGRYPO3', 'type': 'tool_call'}] usage_metadata={'input_tokens': 61, 'output_tokens': 21, 'total_tokens': 82, 'input_token_details': {'audio': 0, 'cache_read': 0}, 'output_token_details': {'audio': 0, 'reasoning': 0}}\n",
      " this is 01 input from call model {'messages': [HumanMessage(content='Tell me about the city details for gwalior?', additional_kwargs={}, response_metadata={}, id='e3ca3b83-4379-4953-8e9c-bdf827aba7de'), AIMessage(content='', additional_kwargs={'tool_calls': [{'id': 'call_RbYV6UKlscWV5UQJYaGRYPO3', 'function': {'arguments': '{\"prompt\":\"city details for Gwalior\"}', 'name': 'get_city_details'}, 'type': 'function'}], 'refusal': None}, response_metadata={'token_usage': {'completion_tokens': 21, 'prompt_tokens': 61, 'total_tokens': 82, 'completion_tokens_details': {'accepted_prediction_tokens': 0, 'audio_tokens': 0, 'reasoning_tokens': 0, 'rejected_prediction_tokens': 0}, 'prompt_tokens_details': {'audio_tokens': 0, 'cached_tokens': 0}}, 'model_name': 'gpt-4o-2024-08-06', 'system_fingerprint': 'fp_d28bcae782', 'finish_reason': 'tool_calls', 'logprobs': None}, id='run-65352d5d-001b-4f26-b71a-bf29307d91ca-0', tool_calls=[{'name': 'get_city_details', 'args': {'prompt': 'city details for Gwalior'}, 'id': 'call_RbYV6UKlscWV5UQJYaGRYPO3', 'type': 'tool_call'}], usage_metadata={'input_tokens': 61, 'output_tokens': 21, 'total_tokens': 82, 'input_token_details': {'audio': 0, 'cache_read': 0}, 'output_token_details': {'audio': 0, 'reasoning': 0}}), ToolMessage(content='[{\"url\": \"https://www.thepackersmovers.com/city/gwalior-city-information.html\", \"content\": \"Gwalior City Information. Gwalior, one of Madhya Pradesh\\'s most remarkable cities, is known for its magnificent palaces, ancient temples, and medieval fort. The city is known for its impressive history and rich cultural heritage and is also the great musician Tansen\\'s birthplace. The massive hill fort of Gwalior, also known as the fort capital\"}, {\"url\": \"https://www.indianvisit.com/travel-guide/madhya-pradesh/gwalior.html\", \"content\": \"Gwalior Tourism: Get all details of Gwalior in this travel guide like the best time to visit, how to reach, things to do, and tourist attractions. HOME; VACATION PACKAGES. ... Gwalior, a city steeped in history, finds its historical significance embodied in the grandeur of the Gwalior Fort. Dating back to ancient times, this fort is a sentinel\"}, {\"url\": \"https://wikitravel.org/en/Gwalior\", \"content\": \"Gwalior is a historic city situated in Madhya Pradesh.It is located 122 kilometres (76 mi) south of Agra, and 423 kilometres (263 mi) north of Bhopal, the state capital.Gwalior is surrounded by industrial and commercial zones of neighboring districts (Malanpur - Bhind, Banmor - Morena) on all three main directions.\"}, {\"url\": \"https://en.wikipedia.org/wiki/Gwalior\", \"content\": \"Gwalior (Hindi: IPA: [ɡʋɑːlɪjəɾ], pronunciation ⓘ) is a major city in the central Indian state of Madhya Pradesh; It is known as the City of Music [5] having oldest musical gharana in existence. It lies in northern part of Madhya Pradesh and is one of the Counter-magnet cities. Located 313 kilometres (194 mi) south of New Delhi, the capital city of India and 446 kilometres (277 mi\"}, {\"url\": \"https://gwaliorsmartcity.org/smart-city-vision/about-gwalior/\", \"content\": \"The Cultural & Historic city of Gwalior is the Tourist Capital of the Indian State of Madhya Pradesh. Gwalior -A million-plus city situated 320 Km south to Delhi, has been identified as a Counter-magnet City to the National Capital Region (NCR). The city has potential to develop as an independent growth center and attract migrants moving to Delhi.\"}]', name='get_city_details', id='3a0226f0-673e-4059-a3b9-a7374e78ad3b', tool_call_id='call_RbYV6UKlscWV5UQJYaGRYPO3')]}\n",
      "this is 02 response from call model  content='Gwalior is a historic city located in the central Indian state of Madhya Pradesh. Here are some key details about the city:\\n\\n1. **Historical Significance**: Gwalior is known for its rich history and cultural heritage. The city is renowned for the Gwalior Fort, a massive hill fort with a history dating back to ancient times. The fort is a major tourist attraction and is often referred to as the fort capital of India.\\n\\n2. **Cultural Heritage**: Gwalior is known as the \"City of Music\" and is home to the oldest musical gharana in existence. The city is also the birthplace of the great musician Tansen.\\n\\n3. **Geographical Location**: Gwalior is situated in northern Madhya Pradesh, about 320 kilometers south of Delhi, the capital city of India. It is surrounded by industrial and commercial zones of neighboring districts such as Malanpur-Bhind and Banmor-Morena.\\n\\n4. **Tourism and Attractions**: Besides the Gwalior Fort, the city is known for its magnificent palaces and ancient temples. It serves as the tourist capital of Madhya Pradesh and has the potential to develop as an independent growth center.\\n\\n5. **Counter-Magnet City**: Gwalior has been identified as a Counter-magnet City to the National Capital Region (NCR) of India, aimed at developing as a growth center to attract migrants moving to Delhi.\\n\\nFor more detailed information, you can explore the following resources:\\n- [Gwalior City Information](https://www.thepackersmovers.com/city/gwalior-city-information.html)\\n- [Gwalior Tourism Guide](https://www.indianvisit.com/travel-guide/madhya-pradesh/gwalior.html)\\n- [Gwalior on Wikipedia](https://en.wikipedia.org/wiki/Gwalior)' additional_kwargs={'refusal': None} response_metadata={'token_usage': {'completion_tokens': 378, 'prompt_tokens': 622, 'total_tokens': 1000, 'completion_tokens_details': {'accepted_prediction_tokens': 0, 'audio_tokens': 0, 'reasoning_tokens': 0, 'rejected_prediction_tokens': 0}, 'prompt_tokens_details': {'audio_tokens': 0, 'cached_tokens': 0}}, 'model_name': 'gpt-4o-2024-08-06', 'system_fingerprint': 'fp_5f20662549', 'finish_reason': 'stop', 'logprobs': None} id='run-977573f7-25aa-4e74-a773-d8f2efb8ff42-0' usage_metadata={'input_tokens': 622, 'output_tokens': 378, 'total_tokens': 1000, 'input_token_details': {'audio': 0, 'cache_read': 0}, 'output_token_details': {'audio': 0, 'reasoning': 0}}\n",
      "here is 03 state from respond {'messages': [HumanMessage(content='Tell me about the city details for gwalior?', additional_kwargs={}, response_metadata={}, id='e3ca3b83-4379-4953-8e9c-bdf827aba7de'), AIMessage(content='', additional_kwargs={'tool_calls': [{'id': 'call_RbYV6UKlscWV5UQJYaGRYPO3', 'function': {'arguments': '{\"prompt\":\"city details for Gwalior\"}', 'name': 'get_city_details'}, 'type': 'function'}], 'refusal': None}, response_metadata={'token_usage': {'completion_tokens': 21, 'prompt_tokens': 61, 'total_tokens': 82, 'completion_tokens_details': {'accepted_prediction_tokens': 0, 'audio_tokens': 0, 'reasoning_tokens': 0, 'rejected_prediction_tokens': 0}, 'prompt_tokens_details': {'audio_tokens': 0, 'cached_tokens': 0}}, 'model_name': 'gpt-4o-2024-08-06', 'system_fingerprint': 'fp_d28bcae782', 'finish_reason': 'tool_calls', 'logprobs': None}, id='run-65352d5d-001b-4f26-b71a-bf29307d91ca-0', tool_calls=[{'name': 'get_city_details', 'args': {'prompt': 'city details for Gwalior'}, 'id': 'call_RbYV6UKlscWV5UQJYaGRYPO3', 'type': 'tool_call'}], usage_metadata={'input_tokens': 61, 'output_tokens': 21, 'total_tokens': 82, 'input_token_details': {'audio': 0, 'cache_read': 0}, 'output_token_details': {'audio': 0, 'reasoning': 0}}), ToolMessage(content='[{\"url\": \"https://www.thepackersmovers.com/city/gwalior-city-information.html\", \"content\": \"Gwalior City Information. Gwalior, one of Madhya Pradesh\\'s most remarkable cities, is known for its magnificent palaces, ancient temples, and medieval fort. The city is known for its impressive history and rich cultural heritage and is also the great musician Tansen\\'s birthplace. The massive hill fort of Gwalior, also known as the fort capital\"}, {\"url\": \"https://www.indianvisit.com/travel-guide/madhya-pradesh/gwalior.html\", \"content\": \"Gwalior Tourism: Get all details of Gwalior in this travel guide like the best time to visit, how to reach, things to do, and tourist attractions. HOME; VACATION PACKAGES. ... Gwalior, a city steeped in history, finds its historical significance embodied in the grandeur of the Gwalior Fort. Dating back to ancient times, this fort is a sentinel\"}, {\"url\": \"https://wikitravel.org/en/Gwalior\", \"content\": \"Gwalior is a historic city situated in Madhya Pradesh.It is located 122 kilometres (76 mi) south of Agra, and 423 kilometres (263 mi) north of Bhopal, the state capital.Gwalior is surrounded by industrial and commercial zones of neighboring districts (Malanpur - Bhind, Banmor - Morena) on all three main directions.\"}, {\"url\": \"https://en.wikipedia.org/wiki/Gwalior\", \"content\": \"Gwalior (Hindi: IPA: [ɡʋɑːlɪjəɾ], pronunciation ⓘ) is a major city in the central Indian state of Madhya Pradesh; It is known as the City of Music [5] having oldest musical gharana in existence. It lies in northern part of Madhya Pradesh and is one of the Counter-magnet cities. Located 313 kilometres (194 mi) south of New Delhi, the capital city of India and 446 kilometres (277 mi\"}, {\"url\": \"https://gwaliorsmartcity.org/smart-city-vision/about-gwalior/\", \"content\": \"The Cultural & Historic city of Gwalior is the Tourist Capital of the Indian State of Madhya Pradesh. Gwalior -A million-plus city situated 320 Km south to Delhi, has been identified as a Counter-magnet City to the National Capital Region (NCR). The city has potential to develop as an independent growth center and attract migrants moving to Delhi.\"}]', name='get_city_details', id='3a0226f0-673e-4059-a3b9-a7374e78ad3b', tool_call_id='call_RbYV6UKlscWV5UQJYaGRYPO3'), AIMessage(content='Gwalior is a historic city located in the central Indian state of Madhya Pradesh. Here are some key details about the city:\\n\\n1. **Historical Significance**: Gwalior is known for its rich history and cultural heritage. The city is renowned for the Gwalior Fort, a massive hill fort with a history dating back to ancient times. The fort is a major tourist attraction and is often referred to as the fort capital of India.\\n\\n2. **Cultural Heritage**: Gwalior is known as the \"City of Music\" and is home to the oldest musical gharana in existence. The city is also the birthplace of the great musician Tansen.\\n\\n3. **Geographical Location**: Gwalior is situated in northern Madhya Pradesh, about 320 kilometers south of Delhi, the capital city of India. It is surrounded by industrial and commercial zones of neighboring districts such as Malanpur-Bhind and Banmor-Morena.\\n\\n4. **Tourism and Attractions**: Besides the Gwalior Fort, the city is known for its magnificent palaces and ancient temples. It serves as the tourist capital of Madhya Pradesh and has the potential to develop as an independent growth center.\\n\\n5. **Counter-Magnet City**: Gwalior has been identified as a Counter-magnet City to the National Capital Region (NCR) of India, aimed at developing as a growth center to attract migrants moving to Delhi.\\n\\nFor more detailed information, you can explore the following resources:\\n- [Gwalior City Information](https://www.thepackersmovers.com/city/gwalior-city-information.html)\\n- [Gwalior Tourism Guide](https://www.indianvisit.com/travel-guide/madhya-pradesh/gwalior.html)\\n- [Gwalior on Wikipedia](https://en.wikipedia.org/wiki/Gwalior)', additional_kwargs={'refusal': None}, response_metadata={'token_usage': {'completion_tokens': 378, 'prompt_tokens': 622, 'total_tokens': 1000, 'completion_tokens_details': {'accepted_prediction_tokens': 0, 'audio_tokens': 0, 'reasoning_tokens': 0, 'rejected_prediction_tokens': 0}, 'prompt_tokens_details': {'audio_tokens': 0, 'cached_tokens': 0}}, 'model_name': 'gpt-4o-2024-08-06', 'system_fingerprint': 'fp_5f20662549', 'finish_reason': 'stop', 'logprobs': None}, id='run-977573f7-25aa-4e74-a773-d8f2efb8ff42-0', usage_metadata={'input_tokens': 622, 'output_tokens': 378, 'total_tokens': 1000, 'input_token_details': {'audio': 0, 'cache_read': 0}, 'output_token_details': {'audio': 0, 'reasoning': 0}})]}\n",
      "this is 04 response from respondstate_name='Madhya Pradesh' state_capital='Bhopal' country_name='India' country_capital='New Delhi'\n"
     ]
    }
   ],
   "source": [
    "answer = graph.invoke(input={\"messages\": [(\"human\", \"Tell me about the city details for gwalior?\")]})['final_response']"
   ]
  },
  {
   "cell_type": "code",
   "execution_count": 17,
   "metadata": {},
   "outputs": [
    {
     "data": {
      "text/plain": [
       "CityDetails(state_name='Madhya Pradesh', state_capital='Bhopal', country_name='India', country_capital='New Delhi')"
      ]
     },
     "execution_count": 17,
     "metadata": {},
     "output_type": "execute_result"
    }
   ],
   "source": [
    "answer"
   ]
  },
  {
   "cell_type": "code",
   "execution_count": null,
   "metadata": {},
   "outputs": [],
   "source": []
  }
 ],
 "metadata": {
  "kernelspec": {
   "display_name": "langgraph",
   "language": "python",
   "name": "python3"
  },
  "language_info": {
   "codemirror_mode": {
    "name": "ipython",
    "version": 3
   },
   "file_extension": ".py",
   "mimetype": "text/x-python",
   "name": "python",
   "nbconvert_exporter": "python",
   "pygments_lexer": "ipython3",
   "version": "3.10.14"
  }
 },
 "nbformat": 4,
 "nbformat_minor": 2
}
